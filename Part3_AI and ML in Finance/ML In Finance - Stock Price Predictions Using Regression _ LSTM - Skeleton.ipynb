{
 "cells": [
  {
   "cell_type": "markdown",
   "metadata": {
    "colab_type": "text",
    "id": "vqgA_yPbGFnM"
   },
   "source": [
    "# TASK #1: UNDERSTAND THE PROBLEM STATEMENT & BUSINESS CASE"
   ]
  },
  {
   "cell_type": "markdown",
   "metadata": {
    "colab_type": "text",
    "id": "7o5Rh_XophbT"
   },
   "source": [
    "<img src=\"./asset/StockPriceML_Slide1.PNG\">"
   ]
  },
  {
   "cell_type": "markdown",
   "metadata": {
    "colab_type": "text",
    "id": "ttbJv3I1rpn3"
   },
   "source": [
    "<img src=\"./asset/StockPriceML_Slide2.PNG\">"
   ]
  },
  {
   "cell_type": "markdown",
   "metadata": {
    "colab_type": "text",
    "id": "3n66xj4BGKWM"
   },
   "source": [
    "# TASK #2: IMPORT DATASETS AND LIBRARIES\n"
   ]
  },
  {
   "cell_type": "code",
   "execution_count": null,
   "metadata": {
    "colab": {},
    "colab_type": "code",
    "id": "KVxYSMIUxx_U"
   },
   "outputs": [],
   "source": [
    "import pandas as pd\n",
    "import plotly.express as px\n",
    "from copy import copy\n",
    "from scipy import stats\n",
    "import matplotlib.pyplot as plt\n",
    "import numpy as np\n",
    "import plotly.figure_factory as ff\n",
    "from sklearn.linear_model import LinearRegression\n",
    "from sklearn.model_selection import train_test_split\n",
    "from tensorflow import keras"
   ]
  },
  {
   "cell_type": "code",
   "execution_count": null,
   "metadata": {
    "colab": {},
    "colab_type": "code",
    "id": "HbxX37RAYEXS"
   },
   "outputs": [],
   "source": [
    "# Read stock prices data\n"
   ]
  },
  {
   "cell_type": "code",
   "execution_count": null,
   "metadata": {
    "colab": {},
    "colab_type": "code",
    "id": "WbBDdWcm9dLH"
   },
   "outputs": [],
   "source": [
    "# Read the stocks volume data\n"
   ]
  },
  {
   "cell_type": "code",
   "execution_count": null,
   "metadata": {
    "colab": {},
    "colab_type": "code",
    "id": "et-6_Df_Gcod"
   },
   "outputs": [],
   "source": [
    "# Sort the data based on Date\n"
   ]
  },
  {
   "cell_type": "code",
   "execution_count": null,
   "metadata": {
    "colab": {},
    "colab_type": "code",
    "id": "ROFg8mJP9s0W"
   },
   "outputs": [],
   "source": [
    "# Sort the volume data based on Date\n"
   ]
  },
  {
   "cell_type": "code",
   "execution_count": null,
   "metadata": {
    "colab": {},
    "colab_type": "code",
    "id": "hvihVJ0UZ2fe"
   },
   "outputs": [],
   "source": [
    "# Check if Null values exist in stock prices data\n"
   ]
  },
  {
   "cell_type": "code",
   "execution_count": null,
   "metadata": {
    "colab": {},
    "colab_type": "code",
    "id": "NkMQnKIZ099u"
   },
   "outputs": [],
   "source": [
    "# Check if Null values exist in stocks volume data\n"
   ]
  },
  {
   "cell_type": "code",
   "execution_count": null,
   "metadata": {
    "colab": {},
    "colab_type": "code",
    "id": "Z4nClRot5F4y"
   },
   "outputs": [],
   "source": [
    "# Get stock prices dataframe info\n"
   ]
  },
  {
   "cell_type": "code",
   "execution_count": null,
   "metadata": {
    "colab": {},
    "colab_type": "code",
    "id": "onwN8ky494An"
   },
   "outputs": [],
   "source": [
    "# Get stock volume dataframe info\n"
   ]
  },
  {
   "cell_type": "markdown",
   "metadata": {
    "colab_type": "text",
    "id": "h-RXyk-jceFT"
   },
   "source": [
    "**MINI CHALLENGE #1:**\n",
    "- **What is the average trading volume for Apple stock?**\n",
    "- **What is the maximum trading volume for sp500?**\n",
    "- **Which security is traded the most? comment on your answer**\n",
    "- **What is the average stock price of the S&P500 over the specified time period?**\n",
    "- **What is the maximum price of Tesla Stock?**\n"
   ]
  },
  {
   "cell_type": "code",
   "execution_count": null,
   "metadata": {
    "colab": {},
    "colab_type": "code",
    "id": "XXEffbieBXY5"
   },
   "outputs": [],
   "source": []
  },
  {
   "cell_type": "code",
   "execution_count": null,
   "metadata": {
    "colab": {},
    "colab_type": "code",
    "id": "qBdtyxEZeIcL"
   },
   "outputs": [],
   "source": []
  },
  {
   "cell_type": "markdown",
   "metadata": {
    "colab_type": "text",
    "id": "-nFC4pHcGr57"
   },
   "source": [
    "#TASK #3: PERFORM EXPLORATORY DATA ANALYSIS AND VISUALIZATION"
   ]
  },
  {
   "cell_type": "code",
   "execution_count": null,
   "metadata": {
    "colab": {},
    "colab_type": "code",
    "id": "YDkIJX8rEMxC"
   },
   "outputs": [],
   "source": [
    "# Function to normalize stock prices based on their initial price\n"
   ]
  },
  {
   "cell_type": "code",
   "execution_count": null,
   "metadata": {
    "colab": {},
    "colab_type": "code",
    "id": "hGNiYwkkLqfu"
   },
   "outputs": [],
   "source": [
    "# Function to plot interactive plots using Plotly Express\n"
   ]
  },
  {
   "cell_type": "code",
   "execution_count": null,
   "metadata": {
    "colab": {},
    "colab_type": "code",
    "id": "zzkZZQ5NO2AJ"
   },
   "outputs": [],
   "source": [
    "# plot interactive chart for stocks data\n"
   ]
  },
  {
   "cell_type": "markdown",
   "metadata": {
    "colab_type": "text",
    "id": "478ealCpgji9"
   },
   "source": [
    "**MINI CHALLENGE #2:**\n",
    "- **Plot the volume dataset for all stocks, list any observations you might see.**\n",
    "- **Plot the normalized stock prices and volume dataset.**"
   ]
  },
  {
   "cell_type": "code",
   "execution_count": null,
   "metadata": {
    "colab": {},
    "colab_type": "code",
    "id": "bqSp2dMnhaVW"
   },
   "outputs": [],
   "source": []
  },
  {
   "cell_type": "code",
   "execution_count": null,
   "metadata": {
    "colab": {},
    "colab_type": "code",
    "id": "TI1gPnPJIeYR"
   },
   "outputs": [],
   "source": []
  },
  {
   "cell_type": "code",
   "execution_count": null,
   "metadata": {
    "colab": {},
    "colab_type": "code",
    "id": "hOE-hbUBIemY"
   },
   "outputs": [],
   "source": []
  },
  {
   "cell_type": "markdown",
   "metadata": {
    "colab_type": "text",
    "id": "DFE61_E-gu5V"
   },
   "source": [
    "# TASK #4: PREPARE THE DATA BEFORE TRAINING THE AI/ML MODEL"
   ]
  },
  {
   "cell_type": "markdown",
   "metadata": {
    "colab_type": "text",
    "id": "sWflwv1or9s_"
   },
   "source": [
    "![alt text](https://drive.google.com/uc?id=1uXYYHfgeJyncu4BZRAooTC4iCclH9e9B)"
   ]
  },
  {
   "cell_type": "code",
   "execution_count": null,
   "metadata": {
    "colab": {},
    "colab_type": "code",
    "id": "LA1XN-zgBMHI"
   },
   "outputs": [],
   "source": [
    "# Function to concatenate the date, stock price, and volume in one dataframe\n"
   ]
  },
  {
   "cell_type": "code",
   "execution_count": null,
   "metadata": {
    "colab": {},
    "colab_type": "code",
    "id": "NP_-Yyay__cb"
   },
   "outputs": [],
   "source": [
    "# Function to return the input/output (target) data for AI/ML Model\n",
    "# Note that our goal is to predict the future stock price \n",
    "# Target stock price today will be tomorrow's price \n"
   ]
  },
  {
   "cell_type": "code",
   "execution_count": null,
   "metadata": {
    "colab": {},
    "colab_type": "code",
    "id": "-VdtCh0BB_vH"
   },
   "outputs": [],
   "source": [
    "# Let's test the functions and get individual stock prices and volumes for AAPL\n"
   ]
  },
  {
   "cell_type": "code",
   "execution_count": null,
   "metadata": {
    "colab": {},
    "colab_type": "code",
    "id": "8sZ9a0mMCYq-"
   },
   "outputs": [],
   "source": []
  },
  {
   "cell_type": "code",
   "execution_count": null,
   "metadata": {
    "colab": {},
    "colab_type": "code",
    "id": "6UdkMEUcD18c"
   },
   "outputs": [],
   "source": [
    "# Remove the last row as it will be a null value\n"
   ]
  },
  {
   "cell_type": "code",
   "execution_count": null,
   "metadata": {
    "colab": {},
    "colab_type": "code",
    "id": "M08n1GlnZtlL"
   },
   "outputs": [],
   "source": [
    "# Scale the data\n"
   ]
  },
  {
   "cell_type": "code",
   "execution_count": null,
   "metadata": {
    "colab": {},
    "colab_type": "code",
    "id": "4zq-g6ifiAxz"
   },
   "outputs": [],
   "source": []
  },
  {
   "cell_type": "code",
   "execution_count": null,
   "metadata": {
    "colab": {},
    "colab_type": "code",
    "id": "WO3fljBwZ7S9"
   },
   "outputs": [],
   "source": []
  },
  {
   "cell_type": "code",
   "execution_count": null,
   "metadata": {
    "colab": {},
    "colab_type": "code",
    "id": "RvVJa_UvD_uB"
   },
   "outputs": [],
   "source": [
    "# Create Feature and Target\n"
   ]
  },
  {
   "cell_type": "code",
   "execution_count": null,
   "metadata": {
    "colab": {},
    "colab_type": "code",
    "id": "3fo5uTvyOuPQ"
   },
   "outputs": [],
   "source": []
  },
  {
   "cell_type": "code",
   "execution_count": null,
   "metadata": {
    "colab": {},
    "colab_type": "code",
    "id": "T_cEMuWBOzZt"
   },
   "outputs": [],
   "source": []
  },
  {
   "cell_type": "code",
   "execution_count": null,
   "metadata": {
    "colab": {},
    "colab_type": "code",
    "id": "HIlzHnyxGoXI"
   },
   "outputs": [],
   "source": [
    "# Spliting the data this way, since order is important in time-series\n",
    "# Note that we did not use train test split with it's default settings since it shuffles the data\n"
   ]
  },
  {
   "cell_type": "code",
   "execution_count": null,
   "metadata": {
    "colab": {},
    "colab_type": "code",
    "id": "-cg-HNcvFJak"
   },
   "outputs": [],
   "source": []
  },
  {
   "cell_type": "code",
   "execution_count": null,
   "metadata": {
    "colab": {},
    "colab_type": "code",
    "id": "gH88gQ1vif5j"
   },
   "outputs": [],
   "source": []
  },
  {
   "cell_type": "code",
   "execution_count": null,
   "metadata": {
    "colab": {},
    "colab_type": "code",
    "id": "DkHMQQVAPJvb"
   },
   "outputs": [],
   "source": []
  },
  {
   "cell_type": "code",
   "execution_count": null,
   "metadata": {
    "colab": {},
    "colab_type": "code",
    "id": "pYNTq_F0PR0C"
   },
   "outputs": [],
   "source": []
  },
  {
   "cell_type": "code",
   "execution_count": null,
   "metadata": {
    "colab": {},
    "colab_type": "code",
    "id": "kZWI-GhZPWIJ"
   },
   "outputs": [],
   "source": []
  },
  {
   "cell_type": "code",
   "execution_count": null,
   "metadata": {
    "colab": {},
    "colab_type": "code",
    "id": "AngtzCsFPc4g"
   },
   "outputs": [],
   "source": []
  },
  {
   "cell_type": "code",
   "execution_count": null,
   "metadata": {
    "colab": {},
    "colab_type": "code",
    "id": "05EDujLnPc2P"
   },
   "outputs": [],
   "source": []
  },
  {
   "cell_type": "code",
   "execution_count": null,
   "metadata": {
    "colab": {},
    "colab_type": "code",
    "id": "GFtSZ4_lk4Aq"
   },
   "outputs": [],
   "source": [
    "# Define a data plotting function\n",
    "\n",
    "\n"
   ]
  },
  {
   "cell_type": "markdown",
   "metadata": {
    "colab_type": "text",
    "id": "a-Hm8xa9kPH_"
   },
   "source": [
    "**MINI CHALLENGE #3:**\n",
    "- **Test the created pipeline with S&P500 and Amazon datasets**"
   ]
  },
  {
   "cell_type": "code",
   "execution_count": null,
   "metadata": {
    "colab": {},
    "colab_type": "code",
    "id": "JAWNvyQ496Q-"
   },
   "outputs": [],
   "source": []
  },
  {
   "cell_type": "markdown",
   "metadata": {
    "colab_type": "text",
    "id": "3L9IZXbB_JEu"
   },
   "source": [
    "# TASK #5: UNDERSTAND THE THEORY AND INTUITION BEHIND REGRESSION "
   ]
  },
  {
   "cell_type": "markdown",
   "metadata": {
    "colab_type": "text",
    "id": "c-8o7GKqrpxW"
   },
   "source": [
    "![alt text](https://drive.google.com/uc?id=1wJHaXRzsqMi713Qkzo2IQgZTmsDxU8f7)"
   ]
  },
  {
   "cell_type": "markdown",
   "metadata": {
    "colab_type": "text",
    "id": "20Lu4pwHr9Kn"
   },
   "source": [
    "![alt text](https://drive.google.com/uc?id=1vDuV9M1b6KF5yIvWpiUqhI7zSr7CKk5g)"
   ]
  },
  {
   "cell_type": "markdown",
   "metadata": {
    "colab_type": "text",
    "id": "XanItQ7dr9fb"
   },
   "source": [
    "![alt text](https://drive.google.com/uc?id=1H-wED3vnYj3ZpsvK0dOEPwYGVjSVhpfI)"
   ]
  },
  {
   "cell_type": "markdown",
   "metadata": {
    "colab_type": "text",
    "id": "v9v70Skjr9nM"
   },
   "source": [
    "![alt text](https://drive.google.com/uc?id=1KM0yvHp1DjVZ87uf68yJdqj2Sh_oTLLT)"
   ]
  },
  {
   "cell_type": "markdown",
   "metadata": {
    "colab_type": "text",
    "id": "4VFLC6-ggdLH"
   },
   "source": [
    "# TASK #6: UNDERSTAND THE CONCEPT OF REGULARIZATION & RIDGE REGRESSION"
   ]
  },
  {
   "cell_type": "markdown",
   "metadata": {
    "colab_type": "text",
    "id": "HByHVSuEr9xM"
   },
   "source": [
    "![alt text](https://drive.google.com/uc?id=1m9NX1aEDLAW2QCqeiQMYggnY3ovVW8QO)"
   ]
  },
  {
   "cell_type": "markdown",
   "metadata": {
    "colab_type": "text",
    "id": "54t65rEZr91p"
   },
   "source": [
    "![alt text](https://drive.google.com/uc?id=13Wn7UkxVkbRlIiJ-rZIrqAItfumj_wzi)"
   ]
  },
  {
   "cell_type": "markdown",
   "metadata": {
    "colab_type": "text",
    "id": "Rr15j2Glr9-7"
   },
   "source": [
    "![alt text](https://drive.google.com/uc?id=1WB1wdMUYqDNAhCytmk889w9SVQQVrwlt)"
   ]
  },
  {
   "cell_type": "markdown",
   "metadata": {
    "colab_type": "text",
    "id": "bq6MBEUGr-A-"
   },
   "source": [
    "![alt text](https://drive.google.com/uc?id=1IsQLtMZbKMyITX_FVr50ZkB68uUuQwmB)"
   ]
  },
  {
   "cell_type": "markdown",
   "metadata": {
    "colab_type": "text",
    "id": "ahHVswb1r-C_"
   },
   "source": [
    "![alt text](https://drive.google.com/uc?id=1D37GCrEMLdFwjTQL9WIoPEsLlEyITuX5)"
   ]
  },
  {
   "cell_type": "markdown",
   "metadata": {
    "colab_type": "text",
    "id": "6tLvna5Gr-FL"
   },
   "source": [
    "![alt text](https://drive.google.com/uc?id=1IBz73HFZPUD6wTEoerXGFTJKhhZyAyb9)"
   ]
  },
  {
   "cell_type": "markdown",
   "metadata": {
    "colab_type": "text",
    "id": "2FVSgRmFFkW5"
   },
   "source": [
    "# TASK #7: BUILD AND TRAIN A RIDGE LINEAR REGRESSION MODEL"
   ]
  },
  {
   "cell_type": "code",
   "execution_count": null,
   "metadata": {
    "colab": {},
    "colab_type": "code",
    "id": "QECbURfqFvBP"
   },
   "outputs": [],
   "source": [
    "from sklearn.linear_model import Ridge\n",
    "# Note that Ridge regression performs linear least squares with L2 regularization.\n",
    "# Create and train the Ridge Linear Regression  Model\n"
   ]
  },
  {
   "cell_type": "code",
   "execution_count": null,
   "metadata": {
    "colab": {},
    "colab_type": "code",
    "id": "gFxXpwVfWPaC"
   },
   "outputs": [],
   "source": [
    "# Test the model and calculate its accuracy \n"
   ]
  },
  {
   "cell_type": "code",
   "execution_count": null,
   "metadata": {
    "colab": {},
    "colab_type": "code",
    "id": "V1Jw5dmMJGwP"
   },
   "outputs": [],
   "source": [
    "# Make Prediction\n"
   ]
  },
  {
   "cell_type": "code",
   "execution_count": null,
   "metadata": {
    "colab": {},
    "colab_type": "code",
    "id": "2VNXZpyehMct"
   },
   "outputs": [],
   "source": [
    "# Append the predicted values into a list\n"
   ]
  },
  {
   "cell_type": "code",
   "execution_count": null,
   "metadata": {
    "colab": {},
    "colab_type": "code",
    "id": "uYzR5OwB8a4E"
   },
   "outputs": [],
   "source": []
  },
  {
   "cell_type": "code",
   "execution_count": null,
   "metadata": {
    "colab": {},
    "colab_type": "code",
    "id": "AYGT3NAlah-1"
   },
   "outputs": [],
   "source": [
    "# Append the close values to the list\n",
    "\n"
   ]
  },
  {
   "cell_type": "code",
   "execution_count": null,
   "metadata": {
    "colab": {},
    "colab_type": "code",
    "id": "KAZJ5HnsJjDH"
   },
   "outputs": [],
   "source": [
    "# Create a dataframe based on the dates in the individual stock data\n"
   ]
  },
  {
   "cell_type": "code",
   "execution_count": null,
   "metadata": {
    "colab": {},
    "colab_type": "code",
    "id": "ap51j2zMbukl"
   },
   "outputs": [],
   "source": [
    "# Add the close values to the dataframe\n"
   ]
  },
  {
   "cell_type": "code",
   "execution_count": null,
   "metadata": {
    "colab": {},
    "colab_type": "code",
    "id": "xTvlo0ZpJ2Sn"
   },
   "outputs": [],
   "source": [
    "# Add the predicted values to the dataframe\n"
   ]
  },
  {
   "cell_type": "code",
   "execution_count": null,
   "metadata": {
    "colab": {},
    "colab_type": "code",
    "id": "d8OSiw6IKBXX"
   },
   "outputs": [],
   "source": [
    "# Plot the results\n"
   ]
  },
  {
   "cell_type": "markdown",
   "metadata": {
    "colab_type": "text",
    "id": "vX880Oao92hV"
   },
   "source": [
    "**MINI CHALLENGE #4:**\n",
    "- **Experiment with various regularization values for alpha** \n",
    "- **What is the impact of increasing alpha?**\n",
    "- **Note: default value for alpha is = 1**\n"
   ]
  },
  {
   "cell_type": "code",
   "execution_count": null,
   "metadata": {
    "colab": {},
    "colab_type": "code",
    "id": "rvszb61h-U7d"
   },
   "outputs": [],
   "source": []
  },
  {
   "cell_type": "markdown",
   "metadata": {
    "colab_type": "text",
    "id": "0nFLBX8zmngT"
   },
   "source": [
    "# TASK #8: UNDERSTAND THE THEORY AND INTUITION BEHIND NEURAL NETWORKS"
   ]
  },
  {
   "cell_type": "markdown",
   "metadata": {
    "colab_type": "text",
    "id": "6v2WxCTHr-JN"
   },
   "source": [
    "![alt text](https://drive.google.com/uc?id=1U2auh7KSalF4qc8iWFScawEB3TniFeXw)"
   ]
  },
  {
   "cell_type": "markdown",
   "metadata": {
    "colab_type": "text",
    "id": "Z7PIHLB3r-Qp"
   },
   "source": [
    "![alt text](https://drive.google.com/uc?id=1xsy74Dj9JyuvwcPzmQcwN9hzHGevAvKB)"
   ]
  },
  {
   "cell_type": "markdown",
   "metadata": {
    "colab_type": "text",
    "id": "BTWwwQl5r-S_"
   },
   "source": [
    "![alt text](https://drive.google.com/uc?id=1b2wIRl63jXgyoh_w1ysxk3XvTJ5j8864)"
   ]
  },
  {
   "cell_type": "markdown",
   "metadata": {
    "colab_type": "text",
    "id": "liBQUqelyoPD"
   },
   "source": [
    "# TASK #9: UNDERSTAND HOW DO ARTFICIAL NEURAL NETWORKS TRAIN "
   ]
  },
  {
   "cell_type": "markdown",
   "metadata": {
    "colab_type": "text",
    "id": "tZsmueG8r-VN"
   },
   "source": [
    "![alt text](https://drive.google.com/uc?id=1pg1rxBoHDtRNVNN0TyMvnCMVKw9ni5pN)"
   ]
  },
  {
   "cell_type": "markdown",
   "metadata": {
    "colab_type": "text",
    "id": "YOB2MNCXr-X2"
   },
   "source": [
    "![alt text](https://drive.google.com/uc?id=1wc4NOBLC55Hb2s8s_hLI2LWykV4WmLwU)"
   ]
  },
  {
   "cell_type": "markdown",
   "metadata": {
    "colab_type": "text",
    "id": "E7Pr4BgOr-aS"
   },
   "source": [
    "![alt text](https://drive.google.com/uc?id=1zI3MbDUAws-gpPisqDrVL8BoupWRO6KJ)"
   ]
  },
  {
   "cell_type": "markdown",
   "metadata": {
    "colab_type": "text",
    "id": "3tx6z-y4r-cd"
   },
   "source": [
    "![alt text](https://drive.google.com/uc?id=1twCXUdFtdFMGsicoQOWI0a9RiHMZ9MK_)"
   ]
  },
  {
   "cell_type": "markdown",
   "metadata": {
    "colab_type": "text",
    "id": "MLVvVZzEy5I2"
   },
   "source": [
    "# TASK #10: UNDERSTAND THE THEORY AND INTUITION BEHIND RECURRENT NEURAL NETWORKS"
   ]
  },
  {
   "cell_type": "markdown",
   "metadata": {
    "colab_type": "text",
    "id": "y8rHBMBKr-ey"
   },
   "source": [
    "![alt text](https://drive.google.com/uc?id=1a6w38XX_W2Zcsvde5FDepUax1aRyvnBT)"
   ]
  },
  {
   "cell_type": "markdown",
   "metadata": {
    "colab_type": "text",
    "id": "KmDdrLdXr9-G"
   },
   "source": [
    "![alt text](https://drive.google.com/uc?id=1tc1SRSaFp-zuvujAQY66E_JEoY6doI0m)"
   ]
  },
  {
   "cell_type": "markdown",
   "metadata": {
    "colab_type": "text",
    "id": "RmSRXe1Mr95B"
   },
   "source": [
    "![alt text](https://drive.google.com/uc?id=10xmgZjv2IjaY4xFm81rwgKqOC0119tug)"
   ]
  },
  {
   "cell_type": "markdown",
   "metadata": {
    "colab_type": "text",
    "id": "4Oru5hmFvlsL"
   },
   "source": [
    "![alt text](https://drive.google.com/uc?id=1CwBOagYD82QaayeGDndRjb_Irm5HIwBs)"
   ]
  },
  {
   "cell_type": "markdown",
   "metadata": {
    "colab_type": "text",
    "id": "3SvxVh1Xvl1z"
   },
   "source": [
    "![alt text](https://drive.google.com/uc?id=148mslyqerZ_gLzQIkPFiDsewCO5nMNK7)"
   ]
  },
  {
   "cell_type": "markdown",
   "metadata": {
    "colab_type": "text",
    "id": "EaENxN6Lvl65"
   },
   "source": [
    "![alt text](https://drive.google.com/uc?id=1_Ky5ek9gq_Ov6VLTkXFmmzEhvjo91tpB)"
   ]
  },
  {
   "cell_type": "markdown",
   "metadata": {
    "colab_type": "text",
    "id": "b_ucc-z2_Y8z"
   },
   "source": [
    "# TASK #11: UNDERSTAND THE THEORY AND INTUITION BEHIND LONG SHORT TERM MEMORY NETWORKS"
   ]
  },
  {
   "cell_type": "markdown",
   "metadata": {
    "colab_type": "text",
    "id": "tv1OwUFYvl9G"
   },
   "source": [
    "![alt text](https://drive.google.com/uc?id=1cd3jZpTuSzsPjMps6SRFqvXNfs4jA_vu)"
   ]
  },
  {
   "cell_type": "markdown",
   "metadata": {
    "colab_type": "text",
    "id": "rnciLV3Evl_i"
   },
   "source": [
    "![alt text](https://drive.google.com/uc?id=1URS5Ny54g-c3ookAL1FLn28TYFlbDIdG)"
   ]
  },
  {
   "cell_type": "markdown",
   "metadata": {
    "colab_type": "text",
    "id": "J_ND1n67vmCX"
   },
   "source": [
    "![alt text](https://drive.google.com/uc?id=1Cm3Unnn_b71rfklW_ejm50xYOYkXh8cl)"
   ]
  },
  {
   "cell_type": "markdown",
   "metadata": {
    "colab_type": "text",
    "id": "aAZRk8GPvmFH"
   },
   "source": [
    "![alt text](https://drive.google.com/uc?id=1pU8lbF965n38ZspjIFsEAU3CEjpclpfd)"
   ]
  },
  {
   "cell_type": "markdown",
   "metadata": {
    "colab_type": "text",
    "id": "7_CvxPPqvmHW"
   },
   "source": [
    "![alt text](https://drive.google.com/uc?id=1zSqTnPZDfiz6qRgMHaFB9wpB55Fnzwf4)"
   ]
  },
  {
   "cell_type": "markdown",
   "metadata": {
    "colab_type": "text",
    "id": "vazFXbaOUBPt"
   },
   "source": [
    "# TASK #12: TRAIN AN LSTM TIME SERIES MODEL"
   ]
  },
  {
   "cell_type": "code",
   "execution_count": null,
   "metadata": {
    "colab": {},
    "colab_type": "code",
    "id": "9EIXG9USAXRa"
   },
   "outputs": [],
   "source": [
    "# Let's test the functions and get individual stock prices and volumes for AAPL\n"
   ]
  },
  {
   "cell_type": "code",
   "execution_count": null,
   "metadata": {
    "colab": {},
    "colab_type": "code",
    "id": "U-vk2wswjHSV"
   },
   "outputs": [],
   "source": [
    "# Get the close and volume data as training data (Input)\n"
   ]
  },
  {
   "cell_type": "code",
   "execution_count": null,
   "metadata": {
    "colab": {},
    "colab_type": "code",
    "id": "3v0W8w5hUznl"
   },
   "outputs": [],
   "source": [
    "# Normalize the data\n"
   ]
  },
  {
   "cell_type": "code",
   "execution_count": null,
   "metadata": {
    "colab": {},
    "colab_type": "code",
    "id": "j0qoyucIdSUm"
   },
   "outputs": [],
   "source": [
    "# Create the training and testing data, training data contains present day and previous day values\n"
   ]
  },
  {
   "cell_type": "code",
   "execution_count": null,
   "metadata": {
    "colab": {},
    "colab_type": "code",
    "id": "NhoAnE5BBy4q"
   },
   "outputs": [],
   "source": []
  },
  {
   "cell_type": "code",
   "execution_count": null,
   "metadata": {
    "colab": {},
    "colab_type": "code",
    "id": "x8wykXAUbKI8"
   },
   "outputs": [],
   "source": [
    "# Convert the data into array format\n"
   ]
  },
  {
   "cell_type": "code",
   "execution_count": null,
   "metadata": {
    "colab": {},
    "colab_type": "code",
    "id": "hphqavfBne49"
   },
   "outputs": [],
   "source": [
    "# Split the data\n"
   ]
  },
  {
   "cell_type": "code",
   "execution_count": null,
   "metadata": {
    "colab": {},
    "colab_type": "code",
    "id": "6_A1uNwzDd40"
   },
   "outputs": [],
   "source": [
    "# Reshape the 1D arrays to 3D arrays to feed in the model\n"
   ]
  },
  {
   "cell_type": "code",
   "execution_count": null,
   "metadata": {
    "colab": {},
    "colab_type": "code",
    "id": "6nzxE7jNFmTQ"
   },
   "outputs": [],
   "source": []
  },
  {
   "cell_type": "code",
   "execution_count": null,
   "metadata": {
    "colab": {},
    "colab_type": "code",
    "id": "0V8kGJTqFp_e"
   },
   "outputs": [],
   "source": []
  },
  {
   "cell_type": "code",
   "execution_count": null,
   "metadata": {
    "colab": {},
    "colab_type": "code",
    "id": "IffJgfzyFsi1"
   },
   "outputs": [],
   "source": []
  },
  {
   "cell_type": "code",
   "execution_count": null,
   "metadata": {
    "colab": {},
    "colab_type": "code",
    "id": "wv2oJunPj7h5"
   },
   "outputs": [],
   "source": [
    "# Create the model\n"
   ]
  },
  {
   "cell_type": "code",
   "execution_count": null,
   "metadata": {
    "colab": {},
    "colab_type": "code",
    "id": "rFjmKCd7kVm7"
   },
   "outputs": [],
   "source": [
    "# Train the model\n"
   ]
  },
  {
   "cell_type": "code",
   "execution_count": null,
   "metadata": {
    "colab": {},
    "colab_type": "code",
    "id": "8VN54FHZefcC"
   },
   "outputs": [],
   "source": [
    "# Make prediction\n"
   ]
  },
  {
   "cell_type": "code",
   "execution_count": null,
   "metadata": {
    "colab": {},
    "colab_type": "code",
    "id": "HppCo4lqLx8H"
   },
   "outputs": [],
   "source": []
  },
  {
   "cell_type": "code",
   "execution_count": null,
   "metadata": {
    "colab": {},
    "colab_type": "code",
    "id": "x0gsAvg2Lx6v"
   },
   "outputs": [],
   "source": []
  },
  {
   "cell_type": "code",
   "execution_count": null,
   "metadata": {
    "colab": {},
    "colab_type": "code",
    "id": "QScwFF4iLx41"
   },
   "outputs": [],
   "source": []
  },
  {
   "cell_type": "code",
   "execution_count": null,
   "metadata": {
    "colab": {},
    "colab_type": "code",
    "id": "9BHuC76_Lx2D"
   },
   "outputs": [],
   "source": []
  },
  {
   "cell_type": "code",
   "execution_count": null,
   "metadata": {
    "colab": {},
    "colab_type": "code",
    "id": "hahnz1HbH8lE"
   },
   "outputs": [],
   "source": []
  },
  {
   "cell_type": "code",
   "execution_count": null,
   "metadata": {
    "colab": {},
    "colab_type": "code",
    "id": "dByPRHADMgDz"
   },
   "outputs": [],
   "source": []
  },
  {
   "cell_type": "code",
   "execution_count": null,
   "metadata": {
    "colab": {},
    "colab_type": "code",
    "id": "YjvpWrbIMgCC"
   },
   "outputs": [],
   "source": []
  },
  {
   "cell_type": "code",
   "execution_count": null,
   "metadata": {
    "colab": {},
    "colab_type": "code",
    "id": "5jouRCxhMf_-"
   },
   "outputs": [],
   "source": []
  },
  {
   "cell_type": "code",
   "execution_count": null,
   "metadata": {
    "colab": {},
    "colab_type": "code",
    "id": "KMa3aeoOMf9e"
   },
   "outputs": [],
   "source": []
  },
  {
   "cell_type": "code",
   "execution_count": null,
   "metadata": {
    "colab": {},
    "colab_type": "code",
    "id": "FJw2jU0uNBVG"
   },
   "outputs": [],
   "source": []
  },
  {
   "cell_type": "markdown",
   "metadata": {
    "colab_type": "text",
    "id": "snpzZkBcFa4m"
   },
   "source": [
    "**MINI CHALLENGE #5:**\n",
    "- **Test the pipeline with at least 3 other stocks** \n",
    "- **Experiment with various LSTM model parameters (Ex: Use 150 units instead of 50), print out the model summary and retrain the model**\n"
   ]
  },
  {
   "cell_type": "code",
   "execution_count": null,
   "metadata": {
    "colab": {},
    "colab_type": "code",
    "id": "n5GF7uKago_V"
   },
   "outputs": [],
   "source": []
  },
  {
   "cell_type": "markdown",
   "metadata": {
    "colab_type": "text",
    "id": "dYPapeVp2xgY"
   },
   "source": [
    "# **EXCELLENT JOB! YOU SHOULD BE TRULY PROUD WITH THE NEWLY ACQUIRED SKILLS**"
   ]
  },
  {
   "cell_type": "markdown",
   "metadata": {
    "colab_type": "text",
    "id": "F_7ATiEAdhD4"
   },
   "source": [
    "# **MINI CHALLENGE SOLUTIONS**"
   ]
  },
  {
   "cell_type": "markdown",
   "metadata": {
    "colab_type": "text",
    "id": "tgnAxNwmdbek"
   },
   "source": [
    "**MINI CHALLENGE #1 SOLUTION:**\n",
    "- **What is the average trading volume for Apple stock?**\n",
    "- **What is the maximum trading volume for sp500?**\n",
    "- **Which security is traded the most? comment on your answer**\n",
    "- **What is the average stock price of the S&P500 over the specified time period?**\n",
    "- **What is the maximum price of Tesla Stock?**"
   ]
  },
  {
   "cell_type": "code",
   "execution_count": null,
   "metadata": {
    "colab": {},
    "colab_type": "code",
    "id": "w172J9nFnRE1"
   },
   "outputs": [],
   "source": [
    "# Get the statistical data for the stocks volume dataframe\n",
    "# Average trading volume for Apple stock is 2.498238e+06\t\n",
    "# Average trading volume for S&P500 is 3.680732e+09\n",
    "\n",
    "# Why S&P500 is the most traded of all? Check out this article: \n",
    "# https://www.investopedia.com/articles/personal-finance/022216/put-10000-sp-500-etf-and-wait-20-years.asp\n",
    "\n",
    "# Text from the article above:\n",
    "# \"The S&P 500 index is a broad-based measure of large corporations traded on U.S. stock markets. Over long periods of time, \n",
    "# passively holding the index often produces better results than actively trading or picking single stocks.\n",
    "# Over long-time horizons, the index typically produces better returns than actively managed portfolios.\"\n",
    "\n",
    "stock_vol_df.describe()"
   ]
  },
  {
   "cell_type": "code",
   "execution_count": null,
   "metadata": {
    "colab": {},
    "colab_type": "code",
    "id": "ZKZPnAQMdcUG"
   },
   "outputs": [],
   "source": [
    "# Get the statistical data for the prices dataframe\n",
    "stock_price_df.describe()"
   ]
  },
  {
   "cell_type": "code",
   "execution_count": null,
   "metadata": {
    "colab": {},
    "colab_type": "code",
    "id": "BP7n-T5Ld3Jj"
   },
   "outputs": [],
   "source": [
    "# Average price for S&P500 = 2218.749554\n",
    "# Maximum Tesla Price = 1643.000000"
   ]
  },
  {
   "cell_type": "markdown",
   "metadata": {
    "colab_type": "text",
    "id": "XMEDxZNrgW8Q"
   },
   "source": [
    "**MINI CHALLENGE #2 SOLUTION:**\n",
    "- **Plot the normalized stock prices and volume dataset.**"
   ]
  },
  {
   "cell_type": "code",
   "execution_count": null,
   "metadata": {
    "colab": {},
    "colab_type": "code",
    "id": "sLVnHTaa2_2M"
   },
   "outputs": [],
   "source": [
    "# Plot interactive chart for volume data\n",
    "# Notice that S&P500 trading is orders of magnitude compared to individual stocks\n",
    "interactive_plot(stock_vol_df, 'Stocks Volume')"
   ]
  },
  {
   "cell_type": "code",
   "execution_count": null,
   "metadata": {
    "colab": {},
    "colab_type": "code",
    "id": "MFJqv0fIgUmt"
   },
   "outputs": [],
   "source": [
    "# plot interactive chart for normalized stocks prices data\n",
    "interactive_plot(normalize(stock_price_df), 'Stock Prices')\n",
    "\n",
    "# Let's normalize the data and re-plot interactive chart for volume data\n",
    "interactive_plot(normalize(stock_vol_df), 'Normalized Volume')"
   ]
  },
  {
   "cell_type": "markdown",
   "metadata": {
    "colab_type": "text",
    "id": "shhK922qkgYK"
   },
   "source": [
    "**MINI CHALLENGE #3 SOLUTION:**\n",
    "- **Test the pipeline with S&P500 and AMZN datasets instead of AAPL**"
   ]
  },
  {
   "cell_type": "code",
   "execution_count": null,
   "metadata": {
    "colab": {},
    "colab_type": "code",
    "id": "ODvAnbO6kf3V"
   },
   "outputs": [],
   "source": [
    "# Let's test the functions and get individual stock prices and volumes for S&P500\n",
    "price_volume_df = individual_stock(stock_price_df, stock_vol_df, 'sp500')\n",
    "price_volume_df\n",
    "\n",
    "# Let's test the functions and get individual stock prices and volumes for Amazon \n",
    "price_volume_df = individual_stock(stock_price_df, stock_vol_df, 'AMZN')\n",
    "price_volume_df"
   ]
  },
  {
   "cell_type": "markdown",
   "metadata": {
    "colab_type": "text",
    "id": "2nf9eUW6-fmz"
   },
   "source": [
    "**MINI CHALLENGE #4 SOLUTION:**\n",
    "- **Experiment with various regularization value for alpha** \n",
    "- **What is the impact of increasing alpha?**\n",
    "- **Note: default value for alpha is = 1**"
   ]
  },
  {
   "cell_type": "code",
   "execution_count": null,
   "metadata": {
    "colab": {},
    "colab_type": "code",
    "id": "MfqlLqNm-g8c"
   },
   "outputs": [],
   "source": [
    "from sklearn.linear_model import Ridge\n",
    "# Note that Ridge regression performs linear least squares with L2 regularization.\n",
    "# Create and train the Ridge Linear Regression  Model\n",
    "regression_model = Ridge(alpha = 2)\n",
    "regression_model.fit(X_train, y_train)"
   ]
  },
  {
   "cell_type": "markdown",
   "metadata": {
    "colab_type": "text",
    "id": "rYR4L_0tH3wO"
   },
   "source": [
    "**MINI CHALLENGE #5 SOLUTION:**\n",
    "- **Test the pipeline with at least 3 other stocks** \n",
    "- **Experiment with various LSTM model parameters (Ex: Use 150 units instead of 50), print out the model summary and retrain the model**\n",
    "\n"
   ]
  },
  {
   "cell_type": "code",
   "execution_count": null,
   "metadata": {
    "colab": {},
    "colab_type": "code",
    "id": "WnVlMGwV-sys"
   },
   "outputs": [],
   "source": [
    "# Create the model\n",
    "inputs = keras.layers.Input(shape=(X_train.shape[1], X_train.shape[2]))\n",
    "x = keras.layers.LSTM(150, return_sequences= True)(inputs)\n",
    "x = keras.layers.Dropout(0.3)(x)\n",
    "x = keras.layers.LSTM(150, return_sequences=True)(x)\n",
    "x = keras.layers.Dropout(0.3)(x)\n",
    "x = keras.layers.LSTM(150)(x)\n",
    "outputs = keras.layers.Dense(1, activation='linear')(x)\n",
    "\n",
    "model = keras.Model(inputs=inputs, outputs=outputs)\n",
    "model.compile(optimizer='adam', loss=\"mse\")\n",
    "model.summary()"
   ]
  }
 ],
 "metadata": {
  "colab": {
   "authorship_tag": "ABX9TyPMSZbEevfkQlto4NWYuMq4",
   "collapsed_sections": [],
   "name": "ML In Finance - Stock Price Predictions Using Regression & LSTM - Skeleton.ipynb",
   "provenance": []
  },
  "kernelspec": {
   "display_name": "Python 3 (ipykernel)",
   "language": "python",
   "name": "python3"
  },
  "language_info": {
   "codemirror_mode": {
    "name": "ipython",
    "version": 3
   },
   "file_extension": ".py",
   "mimetype": "text/x-python",
   "name": "python",
   "nbconvert_exporter": "python",
   "pygments_lexer": "ipython3",
   "version": "3.8.12"
  }
 },
 "nbformat": 4,
 "nbformat_minor": 1
}
