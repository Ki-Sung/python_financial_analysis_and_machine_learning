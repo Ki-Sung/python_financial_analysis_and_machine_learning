{
 "cells": [
  {
   "cell_type": "markdown",
   "metadata": {
    "colab_type": "text",
    "id": "WnhpHVK2bH3s"
   },
   "source": [
    "# 1. SEABRON SCATTERPLOT & COUNTPLOT"
   ]
  },
  {
   "cell_type": "code",
   "execution_count": null,
   "metadata": {
    "colab": {},
    "colab_type": "code",
    "id": "uTkfgtjBn6ek"
   },
   "outputs": [],
   "source": [
    "# Seaborn is a visualization library that sits on top of matplotlib\n",
    "# Seaborn offers enhanced features compared to matplotlib\n",
    "# https://seaborn.pydata.org/examples/index.html\n",
    "# import libraries \n",
    "\n"
   ]
  },
  {
   "cell_type": "code",
   "execution_count": null,
   "metadata": {
    "colab": {},
    "colab_type": "code",
    "id": "8bbCI59uHICY"
   },
   "outputs": [],
   "source": [
    "# np.C_ class object translates slice objects to concatenation along the second axis.\n"
   ]
  },
  {
   "cell_type": "code",
   "execution_count": null,
   "metadata": {
    "colab": {},
    "colab_type": "code",
    "id": "B8cfhCibHS7A"
   },
   "outputs": [],
   "source": []
  },
  {
   "cell_type": "code",
   "execution_count": null,
   "metadata": {
    "colab": {},
    "colab_type": "code",
    "id": "AnTgR6-OHRFK"
   },
   "outputs": [],
   "source": []
  },
  {
   "cell_type": "code",
   "execution_count": null,
   "metadata": {
    "colab": {},
    "colab_type": "code",
    "id": "bUQkwM8IHtlp"
   },
   "outputs": [],
   "source": [
    "# Import Cancer data drom the Sklearn library\n"
   ]
  },
  {
   "cell_type": "code",
   "execution_count": null,
   "metadata": {
    "colab": {},
    "colab_type": "code",
    "id": "Y5w4VqKCHvox"
   },
   "outputs": [],
   "source": []
  },
  {
   "cell_type": "code",
   "execution_count": null,
   "metadata": {
    "colab": {},
    "colab_type": "code",
    "id": "tZEMoIXPoiqI"
   },
   "outputs": [],
   "source": [
    "# Create a dataFrame named df_cancer with input/output data\n"
   ]
  },
  {
   "cell_type": "code",
   "execution_count": null,
   "metadata": {
    "colab": {},
    "colab_type": "code",
    "id": "BCBZU_VQoqIz"
   },
   "outputs": [],
   "source": [
    "# Check out the head of the dataframe\n"
   ]
  },
  {
   "cell_type": "code",
   "execution_count": null,
   "metadata": {
    "colab": {},
    "colab_type": "code",
    "id": "8XkZE6jCdfBS"
   },
   "outputs": [],
   "source": [
    "# Check out the tail of the dataframe\n"
   ]
  },
  {
   "cell_type": "code",
   "execution_count": null,
   "metadata": {
    "colab": {},
    "colab_type": "code",
    "id": "atb9g7nGo1Zf"
   },
   "outputs": [],
   "source": [
    "# Plot scatter plot between mean area and mean smoothness\n"
   ]
  },
  {
   "cell_type": "code",
   "execution_count": null,
   "metadata": {
    "colab": {},
    "colab_type": "code",
    "id": "rc3p4fBso1XA"
   },
   "outputs": [],
   "source": [
    "# Let's print out countplot to know how many samples belong to class #0 and #1\n"
   ]
  },
  {
   "cell_type": "markdown",
   "metadata": {
    "colab_type": "text",
    "id": "RIpzECOpcFa5"
   },
   "source": [
    "**MINI CHALLENGE #1:**\n",
    "- **Plot the scatterplot between the mean radius and mean area. Comment on the plot** \n"
   ]
  },
  {
   "cell_type": "code",
   "execution_count": null,
   "metadata": {
    "colab": {},
    "colab_type": "code",
    "id": "14dehTx3dNAw"
   },
   "outputs": [],
   "source": []
  },
  {
   "cell_type": "markdown",
   "metadata": {
    "colab_type": "text",
    "id": "Al9AW2YLbezU"
   },
   "source": [
    "# 2. SEABORN PAIRPLOT, DISPLOT, AND HEATMAPS/CORRELATIONS"
   ]
  },
  {
   "cell_type": "code",
   "execution_count": null,
   "metadata": {
    "colab": {},
    "colab_type": "code",
    "id": "DYsVoE4ko1Up"
   },
   "outputs": [],
   "source": [
    "# Plot the pairplot\n"
   ]
  },
  {
   "cell_type": "code",
   "execution_count": null,
   "metadata": {
    "colab": {},
    "colab_type": "code",
    "id": "u_UzA1GFo1cK"
   },
   "outputs": [],
   "source": [
    "# Strong correlation between the mean radius and mean perimeter, mean area and mean primeter\n"
   ]
  },
  {
   "cell_type": "code",
   "execution_count": null,
   "metadata": {
    "colab": {},
    "colab_type": "code",
    "id": "m01UPXL9pGsM"
   },
   "outputs": [],
   "source": [
    "# plot the distplot \n",
    "# Displot combines matplotlib histogram function with kdeplot() (Kernel density estimate)\n",
    "# KDE is used to plot the Probability Density of a continuous variable. \n",
    "\n"
   ]
  },
  {
   "cell_type": "markdown",
   "metadata": {
    "colab_type": "text",
    "id": "BlEUElj_gGrm"
   },
   "source": [
    "**MINI CHALLENGE #2:**\n",
    "- **Plot two separate distplot for each target class #0 and target class #1**\n"
   ]
  },
  {
   "cell_type": "code",
   "execution_count": null,
   "metadata": {
    "colab": {},
    "colab_type": "code",
    "id": "JPrD3KlngIcb"
   },
   "outputs": [],
   "source": []
  },
  {
   "cell_type": "code",
   "execution_count": null,
   "metadata": {
    "colab": {},
    "colab_type": "code",
    "id": "gOSi69b9ROSn"
   },
   "outputs": [],
   "source": []
  },
  {
   "cell_type": "code",
   "execution_count": null,
   "metadata": {
    "colab": {},
    "colab_type": "code",
    "id": "2CPA2hTOROV0"
   },
   "outputs": [],
   "source": []
  },
  {
   "cell_type": "code",
   "execution_count": null,
   "metadata": {
    "colab": {},
    "colab_type": "code",
    "id": "t5ntc3muROYh"
   },
   "outputs": [],
   "source": []
  },
  {
   "cell_type": "code",
   "execution_count": null,
   "metadata": {
    "colab": {},
    "colab_type": "code",
    "id": "9QwPrO3qRObJ"
   },
   "outputs": [],
   "source": []
  },
  {
   "cell_type": "markdown",
   "metadata": {
    "colab_type": "text",
    "id": "_o555HjYbtlP"
   },
   "source": [
    "# EXCELLENT JOB!"
   ]
  }
 ],
 "metadata": {
  "colab": {
   "authorship_tag": "ABX9TyOo+JgUFs/Palp2HgXNXPpm",
   "collapsed_sections": [],
   "name": "10. Python 101 - Data Visualization with Seaborn - Skeleton.ipynb",
   "provenance": []
  },
  "kernelspec": {
   "display_name": "Python 3 (ipykernel)",
   "language": "python",
   "name": "python3"
  },
  "language_info": {
   "codemirror_mode": {
    "name": "ipython",
    "version": 3
   },
   "file_extension": ".py",
   "mimetype": "text/x-python",
   "name": "python",
   "nbconvert_exporter": "python",
   "pygments_lexer": "ipython3",
   "version": "3.8.12"
  }
 },
 "nbformat": 4,
 "nbformat_minor": 1
}
