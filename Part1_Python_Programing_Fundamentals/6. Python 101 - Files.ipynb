{
 "cells": [
  {
   "cell_type": "markdown",
   "metadata": {
    "colab_type": "text",
    "id": "iLfi8gKMoAd6"
   },
   "source": [
    "# 1. TEXT FILES"
   ]
  },
  {
   "cell_type": "markdown",
   "metadata": {
    "colab_type": "text",
    "id": "r2IjrNQmoFxC"
   },
   "source": [
    "- open() is the key function to handle files \n",
    "- open() function takes two parameters: (1) filename (2) mode.\n",
    "- Modes for files opening: \n",
    "\n",
    "    - \"r\" - Read - Default value. Opens a file for reading, error if the file does not exist\n",
    "    - \"a\" - Append - Opens a file for appending, creates the file if it does not exist\n",
    "    - \"w\" - Write - Opens a file for writing, creates the file if it does not exist\n",
    "    - \"x\" - Create - Creates the specified file, returns an error if the file exists\n",
    "\n",
    "- files can be used in a binary or text mode\n",
    "\n",
    "    - \"t\" - Text - Default value. Text mode\n",
    "    - \"b\" - Binary - Binary mode (e.g. images)"
   ]
  },
  {
   "cell_type": "code",
   "execution_count": 2,
   "metadata": {
    "colab": {},
    "colab_type": "code",
    "id": "zqk6rO37oC_g"
   },
   "outputs": [
    {
     "name": "stdout",
     "output_type": "stream",
     "text": [
      "I am learning python now!\n",
      "It is super fun to learn Python programming \n",
      "I am learning how to handle files in python!\n"
     ]
    }
   ],
   "source": [
    "# Open and read text file\n",
    "f = open(\"data/sample_text_file.txt\", \"r\")\n",
    "print(f.read())"
   ]
  },
  {
   "cell_type": "code",
   "execution_count": 3,
   "metadata": {
    "colab": {},
    "colab_type": "code",
    "id": "m1596TUCoInJ"
   },
   "outputs": [
    {
     "name": "stdout",
     "output_type": "stream",
     "text": [
      "I am learning python now!\n",
      "\n"
     ]
    }
   ],
   "source": [
    "# readline will be used to read the first line\n",
    "f = open(\"data/sample_text_file.txt\", \"r\")\n",
    "print(f.readline())"
   ]
  },
  {
   "cell_type": "code",
   "execution_count": 4,
   "metadata": {
    "colab": {},
    "colab_type": "code",
    "id": "-2Y52n0UoIpX"
   },
   "outputs": [
    {
     "data": {
      "text/plain": [
       "44"
      ]
     },
     "execution_count": 4,
     "metadata": {},
     "output_type": "execute_result"
    }
   ],
   "source": [
    "# You can open the file and append content to it\n",
    "f = open(\"data/sample_text_file.txt\", \"a\")\n",
    "f.write(\"This is a new line that I added to the file.\")"
   ]
  },
  {
   "cell_type": "code",
   "execution_count": 5,
   "metadata": {
    "colab": {},
    "colab_type": "code",
    "id": "6twyC3vfoIrU"
   },
   "outputs": [],
   "source": [
    "# close the file and let's check its content\n",
    "f.close()"
   ]
  },
  {
   "cell_type": "code",
   "execution_count": 6,
   "metadata": {
    "colab": {},
    "colab_type": "code",
    "id": "sEQ6zDLaoOga"
   },
   "outputs": [],
   "source": [
    "# Let's open the updated file after writing new content to it\n",
    "with open(\"data/sample_text_file.txt\", \"r\") as f:\n",
    "    text_data = f.readlines()"
   ]
  },
  {
   "cell_type": "code",
   "execution_count": 7,
   "metadata": {
    "colab": {},
    "colab_type": "code",
    "id": "HqnHR33noOiZ"
   },
   "outputs": [
    {
     "data": {
      "text/plain": [
       "['I am learning python now!\\n',\n",
       " 'It is super fun to learn Python programming \\n',\n",
       " 'I am learning how to handle files in python!This is a new line that I added to the file.']"
      ]
     },
     "execution_count": 7,
     "metadata": {},
     "output_type": "execute_result"
    }
   ],
   "source": [
    "text_data"
   ]
  },
  {
   "cell_type": "code",
   "execution_count": 8,
   "metadata": {
    "colab": {},
    "colab_type": "code",
    "id": "GJAfep33oOke"
   },
   "outputs": [
    {
     "name": "stdout",
     "output_type": "stream",
     "text": [
      "['I', 'am', 'learning', 'python', 'now!']\n",
      "['It', 'is', 'super', 'fun', 'to', 'learn', 'Python', 'programming']\n",
      "['I', 'am', 'learning', 'how', 'to', 'handle', 'files', 'in', 'python!This', 'is', 'a', 'new', 'line', 'that', 'I', 'added', 'to', 'the', 'file.']\n"
     ]
    }
   ],
   "source": [
    "# split into a list of words\n",
    "for line in text_data:\n",
    "    words = line.split()\n",
    "    print(words)"
   ]
  },
  {
   "cell_type": "markdown",
   "metadata": {
    "colab_type": "text",
    "id": "_9ihcna1v0Y9"
   },
   "source": [
    "**MINI CHALLENGE #1:**\n",
    "- **Read the file 'fruits_input.txt'**\n",
    "- **compare the text file content to the list my_fruits = [\"Apple\", \"Pepper\", \"Orange\", \"Watermelon\", \"Tomatoes\"]**\n"
   ]
  },
  {
   "cell_type": "code",
   "execution_count": 24,
   "metadata": {
    "colab": {},
    "colab_type": "code",
    "id": "FwqzbVBhx5Se"
   },
   "outputs": [],
   "source": [
    "# answer\n",
    "# open file\n",
    "my_fruits = [\"Apple\", \"Pepper\", \"Orange\", \"Watermelon\", \"Tomatoes\"]\n",
    "\n",
    "with open(\"data/fruits_input.txt\", \"r\") as f:\n",
    "    all_fruites = f.readlines()"
   ]
  },
  {
   "cell_type": "code",
   "execution_count": 25,
   "metadata": {},
   "outputs": [
    {
     "data": {
      "text/plain": [
       "['Acai\\n',\n",
       " 'Apple\\n',\n",
       " 'Akee\\n',\n",
       " 'Apricot\\n',\n",
       " 'Avocado\\n',\n",
       " 'Banana\\n',\n",
       " 'Bilberry\\n',\n",
       " 'Blackberry\\n',\n",
       " 'Blackcurrant\\n',\n",
       " 'Black sapote\\n',\n",
       " 'Blueberry\\n',\n",
       " 'Boysenberry\\n',\n",
       " \"Buddha's hand (fingered citron)\\n\",\n",
       " 'Crab apples\\n',\n",
       " 'Currant\\n',\n",
       " 'Cherry\\n',\n",
       " 'Cherimoya (Custard Apple)\\n',\n",
       " 'Chico fruit\\n',\n",
       " 'Cloudberry\\n',\n",
       " 'Coconut\\n',\n",
       " 'Cranberry\\n',\n",
       " 'Cucumber\\n',\n",
       " 'Damson\\n',\n",
       " 'Date\\n',\n",
       " 'Dragonfruit (or Pitaya)\\n',\n",
       " 'Durian\\n',\n",
       " 'Elderberry\\n',\n",
       " 'Feijoa\\n',\n",
       " 'Fig\\n',\n",
       " 'Goji berry\\n',\n",
       " 'Gooseberry\\n',\n",
       " 'Grape\\n',\n",
       " 'Raisin\\n',\n",
       " 'Grapefruit\\n',\n",
       " 'Guava\\n',\n",
       " 'Honeyberry\\n',\n",
       " 'Huckleberry\\n',\n",
       " 'Jabuticaba\\n',\n",
       " 'Jackfruit\\n',\n",
       " 'Jambul\\n',\n",
       " 'Japanese plum\\n',\n",
       " 'Jostaberry\\n',\n",
       " 'Jujube\\n',\n",
       " 'Juniper berry\\n',\n",
       " 'Kiwano (horned melon)\\n',\n",
       " 'Kiwifruit\\n',\n",
       " 'Kumquat\\n',\n",
       " 'Lemon\\n',\n",
       " 'Lime\\n',\n",
       " 'Loquat\\n',\n",
       " 'Longan\\n',\n",
       " 'Lychee\\n',\n",
       " 'Mango\\n',\n",
       " 'Mangosteen\\n',\n",
       " 'Marionberry\\n',\n",
       " 'Melon\\n',\n",
       " 'Cantaloupe\\n',\n",
       " 'Honeydew\\n',\n",
       " 'Watermelon\\n',\n",
       " 'Miracle fruit\\n',\n",
       " 'Mulberry\\n',\n",
       " 'Nectarine\\n',\n",
       " 'Nance\\n',\n",
       " 'Olive\\n',\n",
       " 'Orange\\n',\n",
       " 'Blood orange\\n',\n",
       " 'Clementine\\n',\n",
       " 'Mandarine\\n',\n",
       " 'Tangerine\\n',\n",
       " 'Papaya\\n',\n",
       " 'Passionfruit\\n',\n",
       " 'Peach\\n',\n",
       " 'Pear\\n',\n",
       " 'Persimmon\\n',\n",
       " 'Plantain\\n',\n",
       " 'Plum\\n',\n",
       " 'Prune (dried plum)\\n',\n",
       " 'Pineapple\\n',\n",
       " 'Pineberry\\n',\n",
       " 'Plumcot (or Pluot)\\n',\n",
       " 'Pomegranate\\n',\n",
       " 'Pomelo\\n',\n",
       " 'Purple mangosteen\\n',\n",
       " 'Quince\\n',\n",
       " 'Raspberry\\n',\n",
       " 'Salmonberry\\n',\n",
       " 'Rambutan (or Mamin Chino)\\n',\n",
       " 'Redcurrant\\n',\n",
       " 'Salal berry\\n',\n",
       " 'Salak\\n',\n",
       " 'Satsuma\\n',\n",
       " 'Soursop\\n',\n",
       " 'Star apple\\n',\n",
       " 'Star fruit\\n',\n",
       " 'Strawberry\\n',\n",
       " 'Surinam cherry\\n',\n",
       " 'Tamarillo\\n',\n",
       " 'Tamarind\\n',\n",
       " 'Ugli fruit\\n',\n",
       " 'White currant\\n',\n",
       " 'White sapote\\n',\n",
       " 'Yuzu\\n',\n",
       " '\\n']"
      ]
     },
     "execution_count": 25,
     "metadata": {},
     "output_type": "execute_result"
    }
   ],
   "source": [
    "# check file in list\n",
    "all_fruites"
   ]
  },
  {
   "cell_type": "code",
   "execution_count": 26,
   "metadata": {
    "colab": {},
    "colab_type": "code",
    "id": "iL0yRBfyMD6F"
   },
   "outputs": [
    {
     "data": {
      "text/plain": [
       "['Acai',\n",
       " 'Apple',\n",
       " 'Akee',\n",
       " 'Apricot',\n",
       " 'Avocado',\n",
       " 'Banana',\n",
       " 'Bilberry',\n",
       " 'Blackberry',\n",
       " 'Blackcurrant',\n",
       " 'Black sapote',\n",
       " 'Blueberry',\n",
       " 'Boysenberry',\n",
       " \"Buddha's hand (fingered citron)\",\n",
       " 'Crab apples',\n",
       " 'Currant',\n",
       " 'Cherry',\n",
       " 'Cherimoya (Custard Apple)',\n",
       " 'Chico fruit',\n",
       " 'Cloudberry',\n",
       " 'Coconut',\n",
       " 'Cranberry',\n",
       " 'Cucumber',\n",
       " 'Damson',\n",
       " 'Date',\n",
       " 'Dragonfruit (or Pitaya)',\n",
       " 'Durian',\n",
       " 'Elderberry',\n",
       " 'Feijoa',\n",
       " 'Fig',\n",
       " 'Goji berry',\n",
       " 'Gooseberry',\n",
       " 'Grape',\n",
       " 'Raisin',\n",
       " 'Grapefruit',\n",
       " 'Guava',\n",
       " 'Honeyberry',\n",
       " 'Huckleberry',\n",
       " 'Jabuticaba',\n",
       " 'Jackfruit',\n",
       " 'Jambul',\n",
       " 'Japanese plum',\n",
       " 'Jostaberry',\n",
       " 'Jujube',\n",
       " 'Juniper berry',\n",
       " 'Kiwano (horned melon)',\n",
       " 'Kiwifruit',\n",
       " 'Kumquat',\n",
       " 'Lemon',\n",
       " 'Lime',\n",
       " 'Loquat',\n",
       " 'Longan',\n",
       " 'Lychee',\n",
       " 'Mango',\n",
       " 'Mangosteen',\n",
       " 'Marionberry',\n",
       " 'Melon',\n",
       " 'Cantaloupe',\n",
       " 'Honeydew',\n",
       " 'Watermelon',\n",
       " 'Miracle fruit',\n",
       " 'Mulberry',\n",
       " 'Nectarine',\n",
       " 'Nance',\n",
       " 'Olive',\n",
       " 'Orange',\n",
       " 'Blood orange',\n",
       " 'Clementine',\n",
       " 'Mandarine',\n",
       " 'Tangerine',\n",
       " 'Papaya',\n",
       " 'Passionfruit',\n",
       " 'Peach',\n",
       " 'Pear',\n",
       " 'Persimmon',\n",
       " 'Plantain',\n",
       " 'Plum',\n",
       " 'Prune (dried plum)',\n",
       " 'Pineapple',\n",
       " 'Pineberry',\n",
       " 'Plumcot (or Pluot)',\n",
       " 'Pomegranate',\n",
       " 'Pomelo',\n",
       " 'Purple mangosteen',\n",
       " 'Quince',\n",
       " 'Raspberry',\n",
       " 'Salmonberry',\n",
       " 'Rambutan (or Mamin Chino)',\n",
       " 'Redcurrant',\n",
       " 'Salal berry',\n",
       " 'Salak',\n",
       " 'Satsuma',\n",
       " 'Soursop',\n",
       " 'Star apple',\n",
       " 'Star fruit',\n",
       " 'Strawberry',\n",
       " 'Surinam cherry',\n",
       " 'Tamarillo',\n",
       " 'Tamarind',\n",
       " 'Ugli fruit',\n",
       " 'White currant',\n",
       " 'White sapote',\n",
       " 'Yuzu',\n",
       " '']"
      ]
     },
     "execution_count": 26,
     "metadata": {},
     "output_type": "execute_result"
    }
   ],
   "source": [
    "# split into a list of words\n",
    "all_fruits = [char.rstrip(\"\\n\") for char in all_fruites]\n",
    "all_fruits"
   ]
  },
  {
   "cell_type": "code",
   "execution_count": 27,
   "metadata": {
    "colab": {},
    "colab_type": "code",
    "id": "GSIATnQxMyFR"
   },
   "outputs": [
    {
     "data": {
      "text/plain": [
       "['Apple', 'Watermelon', 'Orange']"
      ]
     },
     "execution_count": 27,
     "metadata": {},
     "output_type": "execute_result"
    }
   ],
   "source": [
    "# compare with list\n",
    "select_fruits = [i for i in all_fruits if i in my_fruits]\n",
    "select_fruits"
   ]
  },
  {
   "cell_type": "markdown",
   "metadata": {
    "colab_type": "text",
    "id": "mVEBiOmtnCp4"
   },
   "source": [
    "# 2. CSV FILES"
   ]
  },
  {
   "cell_type": "code",
   "execution_count": null,
   "metadata": {
    "colab": {},
    "colab_type": "code",
    "id": "C6-0bqrqmZS-"
   },
   "outputs": [],
   "source": [
    "# you can read csv files using \"csv.reader\"\n",
    "\n"
   ]
  },
  {
   "cell_type": "code",
   "execution_count": null,
   "metadata": {
    "colab": {},
    "colab_type": "code",
    "id": "JlyWKV6fmng9"
   },
   "outputs": [],
   "source": [
    "# Let's view the data\n"
   ]
  },
  {
   "cell_type": "code",
   "execution_count": null,
   "metadata": {
    "colab": {},
    "colab_type": "code",
    "id": "SuYdDHQpnZxL"
   },
   "outputs": [],
   "source": [
    "# Let's view the first row\n"
   ]
  },
  {
   "cell_type": "code",
   "execution_count": null,
   "metadata": {
    "colab": {},
    "colab_type": "code",
    "id": "iPiq2lkMnbjW"
   },
   "outputs": [],
   "source": [
    "# Let's view the second row\n"
   ]
  },
  {
   "cell_type": "code",
   "execution_count": null,
   "metadata": {
    "colab": {},
    "colab_type": "code",
    "id": "1EbBeptqm1XY"
   },
   "outputs": [],
   "source": [
    "# Combine first and last names together to generate full_name\n"
   ]
  },
  {
   "cell_type": "code",
   "execution_count": null,
   "metadata": {
    "colab": {},
    "colab_type": "code",
    "id": "gD3H86PLm3FO"
   },
   "outputs": [],
   "source": []
  },
  {
   "cell_type": "code",
   "execution_count": null,
   "metadata": {
    "colab": {},
    "colab_type": "code",
    "id": "cjLRTZfcm5_I"
   },
   "outputs": [],
   "source": []
  },
  {
   "cell_type": "code",
   "execution_count": null,
   "metadata": {
    "colab": {},
    "colab_type": "code",
    "id": "wTXefzJAm6Wv"
   },
   "outputs": [],
   "source": []
  },
  {
   "cell_type": "markdown",
   "metadata": {
    "colab_type": "text",
    "id": "fxYxNeqJxEmR"
   },
   "source": [
    "**MINI CHALLENGE #2:**\n",
    "- **Read the CSV file entitled \"S&P500_Stock_data.csv\" and print out the heading**\n",
    "- **Print out the first 5 rows of data**\n"
   ]
  },
  {
   "cell_type": "code",
   "execution_count": null,
   "metadata": {
    "colab": {},
    "colab_type": "code",
    "id": "yzmHo9AHxhff"
   },
   "outputs": [],
   "source": []
  },
  {
   "cell_type": "code",
   "execution_count": null,
   "metadata": {
    "colab": {},
    "colab_type": "code",
    "id": "5gflv-5oQSQg"
   },
   "outputs": [],
   "source": []
  },
  {
   "cell_type": "code",
   "execution_count": null,
   "metadata": {
    "colab": {},
    "colab_type": "code",
    "id": "um4wsztKQSSx"
   },
   "outputs": [],
   "source": []
  },
  {
   "cell_type": "code",
   "execution_count": null,
   "metadata": {
    "colab": {},
    "colab_type": "code",
    "id": "AvkJGqpPQSOi"
   },
   "outputs": [],
   "source": []
  },
  {
   "cell_type": "code",
   "execution_count": null,
   "metadata": {
    "colab": {},
    "colab_type": "code",
    "id": "HGXN70DvQt7k"
   },
   "outputs": [],
   "source": []
  },
  {
   "cell_type": "markdown",
   "metadata": {
    "colab_type": "text",
    "id": "1YIpbzx8wrYj"
   },
   "source": [
    "# EXCELLENT JOB!"
   ]
  }
 ],
 "metadata": {
  "colab": {
   "collapsed_sections": [],
   "name": "6. Python 101 - Files - Skeleton.ipynb",
   "provenance": []
  },
  "kernelspec": {
   "display_name": "Python 3 (ipykernel)",
   "language": "python",
   "name": "python3"
  },
  "language_info": {
   "codemirror_mode": {
    "name": "ipython",
    "version": 3
   },
   "file_extension": ".py",
   "mimetype": "text/x-python",
   "name": "python",
   "nbconvert_exporter": "python",
   "pygments_lexer": "ipython3",
   "version": "3.8.12"
  }
 },
 "nbformat": 4,
 "nbformat_minor": 1
}
