{
 "cells": [
  {
   "cell_type": "markdown",
   "metadata": {
    "colab_type": "text",
    "id": "f7yOpaRM5IbG"
   },
   "source": [
    "# 1. NUMPY BASICS"
   ]
  },
  {
   "cell_type": "code",
   "execution_count": null,
   "metadata": {
    "colab": {},
    "colab_type": "code",
    "id": "Bqk10u47qEmJ"
   },
   "outputs": [],
   "source": [
    "# NumPy is a Linear Algebra Library used for multidimensional arrays\n",
    "# NumPy brings the best of two worlds: (1) C/Fortran computational efficiency, (2) Python language easy syntax \n",
    "\n",
    "# Let's define a one-dimensional array \n"
   ]
  },
  {
   "cell_type": "code",
   "execution_count": null,
   "metadata": {
    "colab": {},
    "colab_type": "code",
    "id": "b98d-lkK5NbQ"
   },
   "outputs": [],
   "source": [
    "# Let's create a numpy array from the list \"my_list\"\n"
   ]
  },
  {
   "cell_type": "code",
   "execution_count": null,
   "metadata": {
    "colab": {},
    "colab_type": "code",
    "id": "tljNDWBw5Nf9"
   },
   "outputs": [],
   "source": []
  },
  {
   "cell_type": "code",
   "execution_count": null,
   "metadata": {
    "colab": {},
    "colab_type": "code",
    "id": "wpiZ25fZ5NiN"
   },
   "outputs": [],
   "source": [
    "# Multi-dimensional (Matrix definition) \n"
   ]
  },
  {
   "cell_type": "markdown",
   "metadata": {
    "colab_type": "text",
    "id": "tmB_S-JfHZRL"
   },
   "source": [
    "**MINI CHALLENGE #1:** \n",
    "- **Write a code that creates the following 2x4 numpy array**\n",
    "\n",
    "```\n",
    "[[4 6 8 7] \n",
    "[20 5 6 9]]\n",
    "```"
   ]
  },
  {
   "cell_type": "code",
   "execution_count": null,
   "metadata": {
    "colab": {},
    "colab_type": "code",
    "id": "Nabjzl1oKtGX"
   },
   "outputs": [],
   "source": []
  },
  {
   "cell_type": "markdown",
   "metadata": {
    "colab_type": "text",
    "id": "uBuqdDQM6Qd9"
   },
   "source": [
    "# 2. BUILT-IN METHODS AND FUNCTIONS "
   ]
  },
  {
   "cell_type": "code",
   "execution_count": null,
   "metadata": {
    "colab": {},
    "colab_type": "code",
    "id": "yXQV-Nrg5No3"
   },
   "outputs": [],
   "source": [
    "# \"rand()\" uniform distribution between 0 and 1\n"
   ]
  },
  {
   "cell_type": "code",
   "execution_count": null,
   "metadata": {
    "colab": {},
    "colab_type": "code",
    "id": "PpJUCdB15NkT"
   },
   "outputs": [],
   "source": [
    "# you can create a matrix of random number as well\n"
   ]
  },
  {
   "cell_type": "code",
   "execution_count": null,
   "metadata": {
    "colab": {},
    "colab_type": "code",
    "id": "7EzMNrrm6YHA"
   },
   "outputs": [],
   "source": [
    "# \"randn()\" normal distribution between 0 and 1\n"
   ]
  },
  {
   "cell_type": "code",
   "execution_count": null,
   "metadata": {
    "colab": {},
    "colab_type": "code",
    "id": "RBcU5xgb6YL0"
   },
   "outputs": [],
   "source": [
    "# \"randint\" is used to generate random integers between upper and lower bounds\n"
   ]
  },
  {
   "cell_type": "code",
   "execution_count": null,
   "metadata": {
    "colab": {},
    "colab_type": "code",
    "id": "O3JdVtvo6YP7"
   },
   "outputs": [],
   "source": [
    "# \"randint\" can be used to generate a certain number of random itegers as follows\n"
   ]
  },
  {
   "cell_type": "code",
   "execution_count": null,
   "metadata": {
    "colab": {},
    "colab_type": "code",
    "id": "EOOLMB416YUh"
   },
   "outputs": [],
   "source": [
    "# np.arange creates an evenly spaced values within a given interval\n"
   ]
  },
  {
   "cell_type": "code",
   "execution_count": null,
   "metadata": {
    "colab": {},
    "colab_type": "code",
    "id": "Jz7eJuio6YY4"
   },
   "outputs": [],
   "source": [
    "# Create an evenly spaced values with a step of 5\n"
   ]
  },
  {
   "cell_type": "code",
   "execution_count": null,
   "metadata": {
    "colab": {},
    "colab_type": "code",
    "id": "sft1flaM6YXF"
   },
   "outputs": [],
   "source": [
    "# create a diagonal of ones and zeros everywhere else\n"
   ]
  },
  {
   "cell_type": "code",
   "execution_count": null,
   "metadata": {
    "colab": {},
    "colab_type": "code",
    "id": "zZgMftc96fZm"
   },
   "outputs": [],
   "source": [
    "# Array of ones\n"
   ]
  },
  {
   "cell_type": "code",
   "execution_count": null,
   "metadata": {
    "colab": {},
    "colab_type": "code",
    "id": "VQ8fp8Qb6feB"
   },
   "outputs": [],
   "source": [
    "# Matrices of ones\n"
   ]
  },
  {
   "cell_type": "code",
   "execution_count": null,
   "metadata": {
    "colab": {},
    "colab_type": "code",
    "id": "TTROXKYo6YSn"
   },
   "outputs": [],
   "source": [
    "# Array of zeros\n"
   ]
  },
  {
   "cell_type": "markdown",
   "metadata": {
    "colab_type": "text",
    "id": "IGiQ87EjKzh-"
   },
   "source": [
    "**MINI CHALLENGE #2:**\n",
    "- **Write a code that takes in a number x from the user and creates a 1x20 array with random numbers ranging from 0 to x**"
   ]
  },
  {
   "cell_type": "code",
   "execution_count": null,
   "metadata": {
    "colab": {},
    "colab_type": "code",
    "id": "xg1mPZKKML5j"
   },
   "outputs": [],
   "source": []
  },
  {
   "cell_type": "markdown",
   "metadata": {
    "colab_type": "text",
    "id": "980PKtbu9Z0k"
   },
   "source": [
    "# 3. SHAPE, LENGTH, TYPE, RESHAPE, AND MAX/MIN VALUES"
   ]
  },
  {
   "cell_type": "code",
   "execution_count": null,
   "metadata": {
    "colab": {},
    "colab_type": "code",
    "id": "MIxxZhxSADVj"
   },
   "outputs": [],
   "source": [
    "# Let's define a one-dimensional array \n"
   ]
  },
  {
   "cell_type": "code",
   "execution_count": null,
   "metadata": {
    "colab": {},
    "colab_type": "code",
    "id": "O9mMBErG6YJr"
   },
   "outputs": [],
   "source": [
    "# Get Length of a numpy array\n"
   ]
  },
  {
   "cell_type": "code",
   "execution_count": null,
   "metadata": {
    "colab": {},
    "colab_type": "code",
    "id": "fo3vYjNI9lGF"
   },
   "outputs": [],
   "source": [
    "# Get shape\n"
   ]
  },
  {
   "cell_type": "code",
   "execution_count": null,
   "metadata": {
    "colab": {},
    "colab_type": "code",
    "id": "fdkzRVuB9lR6"
   },
   "outputs": [],
   "source": [
    "# Obtain the datatype\n"
   ]
  },
  {
   "cell_type": "code",
   "execution_count": null,
   "metadata": {
    "colab": {},
    "colab_type": "code",
    "id": "GVnOSYnU9lLU"
   },
   "outputs": [],
   "source": [
    "# Reshape 1D array into a matrix\n"
   ]
  },
  {
   "cell_type": "code",
   "execution_count": null,
   "metadata": {
    "colab": {},
    "colab_type": "code",
    "id": "zb1UVnsW9lI_"
   },
   "outputs": [],
   "source": [
    "# Obtain the maximum element (value)\n"
   ]
  },
  {
   "cell_type": "code",
   "execution_count": null,
   "metadata": {
    "colab": {},
    "colab_type": "code",
    "id": "q1yArvkA-R5P"
   },
   "outputs": [],
   "source": [
    "# Obtain the minimum element (value)\n"
   ]
  },
  {
   "cell_type": "code",
   "execution_count": null,
   "metadata": {
    "colab": {},
    "colab_type": "code",
    "id": "ehXgrFee-R3F"
   },
   "outputs": [],
   "source": [
    "# Obtain the location of the max element\n"
   ]
  },
  {
   "cell_type": "code",
   "execution_count": null,
   "metadata": {
    "colab": {},
    "colab_type": "code",
    "id": "EnaJTGEy-R0Y"
   },
   "outputs": [],
   "source": [
    "# Obtain the location of the min element\n"
   ]
  },
  {
   "cell_type": "markdown",
   "metadata": {
    "colab_type": "text",
    "id": "7LavgBBnIIJz"
   },
   "source": [
    "**MINI CHALLENGE #3:**\n",
    "- **Write a code that creates a 4x5 array inwhich numbers range between 300 and 500 such that the difference between elements is 10**"
   ]
  },
  {
   "cell_type": "code",
   "execution_count": null,
   "metadata": {
    "colab": {},
    "colab_type": "code",
    "id": "CtwsbAQ6NGiN"
   },
   "outputs": [],
   "source": []
  },
  {
   "cell_type": "markdown",
   "metadata": {
    "colab_type": "text",
    "id": "zQ-QhrsgM2x8"
   },
   "source": [
    "**MINI CHALLENGE #4:**\n",
    "- **Write a code that creates a 20x20 numpy array of random values that ranges from -1000 to 1000 and obtain the maximum, minimum, and mean values** "
   ]
  },
  {
   "cell_type": "code",
   "execution_count": null,
   "metadata": {
    "colab": {},
    "colab_type": "code",
    "id": "PS3ofoabMb9V"
   },
   "outputs": [],
   "source": []
  },
  {
   "cell_type": "markdown",
   "metadata": {
    "colab_type": "text",
    "id": "VRyk_VYQArV3"
   },
   "source": [
    "# 4. MATHEMATICAL OPERATIONS"
   ]
  },
  {
   "cell_type": "code",
   "execution_count": null,
   "metadata": {
    "colab": {},
    "colab_type": "code",
    "id": "vm-gmaQG-Vvd"
   },
   "outputs": [],
   "source": [
    "# np.arange() returns an evenly spaced values within a given interval\n"
   ]
  },
  {
   "cell_type": "code",
   "execution_count": null,
   "metadata": {
    "colab": {},
    "colab_type": "code",
    "id": "yzC5WGBIAzNk"
   },
   "outputs": [],
   "source": []
  },
  {
   "cell_type": "code",
   "execution_count": null,
   "metadata": {
    "colab": {},
    "colab_type": "code",
    "id": "ED0OSzpw2p9R"
   },
   "outputs": [],
   "source": [
    "# Add 2 numpy arrays together\n"
   ]
  },
  {
   "cell_type": "code",
   "execution_count": null,
   "metadata": {
    "colab": {},
    "colab_type": "code",
    "id": "TH6xTJcuAzK-"
   },
   "outputs": [],
   "source": []
  },
  {
   "cell_type": "code",
   "execution_count": null,
   "metadata": {
    "colab": {},
    "colab_type": "code",
    "id": "A0T25q5bAzIw"
   },
   "outputs": [],
   "source": []
  },
  {
   "cell_type": "code",
   "execution_count": null,
   "metadata": {
    "colab": {},
    "colab_type": "code",
    "id": "1HvrjH4fAzGd"
   },
   "outputs": [],
   "source": []
  },
  {
   "cell_type": "markdown",
   "metadata": {
    "colab_type": "text",
    "id": "-mj5Mwc2MmY2"
   },
   "source": [
    "**MINI CHALLENGE #5:**\n",
    "- **Given the X and Y values below, obtain the distance between them**\n",
    "\n",
    "\n",
    "```\n",
    "X = [3, 20, 30]\n",
    "Y = [4, 6, 7]\n",
    "```"
   ]
  },
  {
   "cell_type": "code",
   "execution_count": null,
   "metadata": {
    "colab": {},
    "colab_type": "code",
    "id": "LfvrGIb83zCA"
   },
   "outputs": [],
   "source": []
  },
  {
   "cell_type": "markdown",
   "metadata": {
    "colab_type": "text",
    "id": "ZA-Yb20mCYLl"
   },
   "source": [
    "# 5. SLICING AND INDEXING "
   ]
  },
  {
   "cell_type": "code",
   "execution_count": null,
   "metadata": {
    "colab": {},
    "colab_type": "code",
    "id": "Bu6rhQ99BFCp"
   },
   "outputs": [],
   "source": []
  },
  {
   "cell_type": "code",
   "execution_count": null,
   "metadata": {
    "colab": {},
    "colab_type": "code",
    "id": "9TuEXJxgCdi_"
   },
   "outputs": [],
   "source": [
    "# Access specific index from the numpy array\n"
   ]
  },
  {
   "cell_type": "code",
   "execution_count": null,
   "metadata": {
    "colab": {},
    "colab_type": "code",
    "id": "EjisujRgCdh4"
   },
   "outputs": [],
   "source": [
    "# Starting from the first index 0 up until and NOT inlcluding the last element\n"
   ]
  },
  {
   "cell_type": "code",
   "execution_count": null,
   "metadata": {
    "colab": {},
    "colab_type": "code",
    "id": "1nWlP602Cdg3"
   },
   "outputs": [],
   "source": [
    "# Broadcasting, altering several values in a numpy array at once\n"
   ]
  },
  {
   "cell_type": "code",
   "execution_count": null,
   "metadata": {
    "colab": {},
    "colab_type": "code",
    "id": "fVKbwHguCddn"
   },
   "outputs": [],
   "source": [
    "# Let's define a two dimensional numpy array\n"
   ]
  },
  {
   "cell_type": "code",
   "execution_count": null,
   "metadata": {
    "colab": {},
    "colab_type": "code",
    "id": "Ea7ukwEzCda-"
   },
   "outputs": [],
   "source": [
    "# Get a row from a mtrix\n"
   ]
  },
  {
   "cell_type": "code",
   "execution_count": null,
   "metadata": {
    "colab": {},
    "colab_type": "code",
    "id": "8KJk10J8Ci8k"
   },
   "outputs": [],
   "source": [
    "# Get one element\n"
   ]
  },
  {
   "cell_type": "code",
   "execution_count": null,
   "metadata": {
    "colab": {},
    "colab_type": "code",
    "id": "lWsIgHYRCi5e"
   },
   "outputs": [],
   "source": []
  },
  {
   "cell_type": "code",
   "execution_count": null,
   "metadata": {
    "colab": {},
    "colab_type": "code",
    "id": "Gn7-PKS9Ci4c"
   },
   "outputs": [],
   "source": []
  },
  {
   "cell_type": "code",
   "execution_count": null,
   "metadata": {
    "colab": {},
    "colab_type": "code",
    "id": "MGap8pfACi1M"
   },
   "outputs": [],
   "source": []
  },
  {
   "cell_type": "code",
   "execution_count": null,
   "metadata": {
    "colab": {},
    "colab_type": "code",
    "id": "ANJFZWTdCdX9"
   },
   "outputs": [],
   "source": []
  },
  {
   "cell_type": "markdown",
   "metadata": {
    "colab_type": "text",
    "id": "zgyFPV5R8dUS"
   },
   "source": [
    "**MINI CHALLENGE #6:**\n",
    "- **In the following matrix, replace the last row with -1**\n",
    "- **Multiply the 2x2 matrix in the upper right corner by 2**\n",
    "\n",
    "\n",
    "\n",
    "```\n",
    "X = [2 30 20 -2 -4]\n",
    "    [3 4  40 -3 -2]\n",
    "    [-3 4 -6 90 10]\n",
    "    [25 45 34 22 12]\n",
    "    [13 24 22 32 37]\n",
    "```\n",
    "\n"
   ]
  },
  {
   "cell_type": "markdown",
   "metadata": {
    "colab_type": "text",
    "id": "juuMOEq7Col_"
   },
   "source": [
    "# 6. ELEMENTS SELECTION (CONDITIONAL)"
   ]
  },
  {
   "cell_type": "code",
   "execution_count": null,
   "metadata": {
    "colab": {},
    "colab_type": "code",
    "id": "UujCvuhMCt4K"
   },
   "outputs": [],
   "source": []
  },
  {
   "cell_type": "code",
   "execution_count": null,
   "metadata": {
    "colab": {},
    "colab_type": "code",
    "id": "JBgJ8ugyCvht"
   },
   "outputs": [],
   "source": []
  },
  {
   "cell_type": "code",
   "execution_count": null,
   "metadata": {
    "colab": {},
    "colab_type": "code",
    "id": "TIQ-A7IBCvgl"
   },
   "outputs": [],
   "source": []
  },
  {
   "cell_type": "markdown",
   "metadata": {
    "colab_type": "text",
    "id": "39QiMh-W8ogs"
   },
   "source": [
    "**MINI CHALLENGE #7:**\n",
    "- **In the following matrix, replace negative elements by 0 and replace odd elements with 25**\n",
    "\n",
    "\n",
    "```\n",
    "X = [2 30 20 -2 -4]\n",
    "    [3 4  40 -3 -2]\n",
    "    [-3 4 -6 90 10]\n",
    "    [25 45 34 22 12]\n",
    "    [13 24 22 32 37]\n",
    "```\n"
   ]
  },
  {
   "cell_type": "code",
   "execution_count": null,
   "metadata": {
    "colab": {},
    "colab_type": "code",
    "id": "AbN-vySf9gen"
   },
   "outputs": [],
   "source": []
  },
  {
   "cell_type": "markdown",
   "metadata": {
    "colab_type": "text",
    "id": "dakv7iPFgw7Y"
   },
   "source": [
    "# EXCELLENT JOB!"
   ]
  }
 ],
 "metadata": {
  "colab": {
   "collapsed_sections": [],
   "name": "7. Python 101 - Python Libraries for Data Analysis - Numpy Skeleton.ipynb",
   "provenance": []
  },
  "kernelspec": {
   "display_name": "Python 3 (ipykernel)",
   "language": "python",
   "name": "python3"
  },
  "language_info": {
   "codemirror_mode": {
    "name": "ipython",
    "version": 3
   },
   "file_extension": ".py",
   "mimetype": "text/x-python",
   "name": "python",
   "nbconvert_exporter": "python",
   "pygments_lexer": "ipython3",
   "version": "3.8.12"
  }
 },
 "nbformat": 4,
 "nbformat_minor": 1
}
