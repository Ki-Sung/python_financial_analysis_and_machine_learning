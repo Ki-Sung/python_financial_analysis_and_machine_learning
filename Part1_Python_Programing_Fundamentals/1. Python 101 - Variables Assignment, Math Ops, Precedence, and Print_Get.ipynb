{
 "cells": [
  {
   "cell_type": "markdown",
   "metadata": {
    "id": "B1KBXIYhkuw5"
   },
   "source": [
    "# 1. VARIABLES ASSIGNMENT\n",
    "- 변수 할당\n",
    "- 수학 연산\n",
    "- 우선순위와 출력\n",
    "- 데이터 타입 확인"
   ]
  },
  {
   "cell_type": "code",
   "execution_count": 1,
   "metadata": {
    "executionInfo": {
     "elapsed": 5,
     "status": "ok",
     "timestamp": 1696936276952,
     "user": {
      "displayName": "김기성",
      "userId": "05600356629027755631"
     },
     "user_tz": -540
    },
    "id": "xDDNUduqSE1n"
   },
   "outputs": [],
   "source": [
    "# Define a variable named \"portfolio_1\" and assign a number (integer) to it\n",
    "# integer is a whole number (no decimals) that could be positive or negative\n",
    "portfolio_1 = 5000"
   ]
  },
  {
   "cell_type": "code",
   "execution_count": 2,
   "metadata": {
    "colab": {
     "base_uri": "https://localhost:8080/"
    },
    "executionInfo": {
     "elapsed": 5,
     "status": "ok",
     "timestamp": 1696936307046,
     "user": {
      "displayName": "김기성",
      "userId": "05600356629027755631"
     },
     "user_tz": -540
    },
    "id": "_7BUQ4lalVpE",
    "outputId": "3d025fde-48ac-4f9f-b7f5-e83e69c5e45f"
   },
   "outputs": [
    {
     "name": "stdout",
     "output_type": "stream",
     "text": [
      "5000\n"
     ]
    }
   ],
   "source": [
    "# Let's view \"portfolio_1\"\n",
    "print(portfolio_1)"
   ]
  },
  {
   "cell_type": "code",
   "execution_count": 3,
   "metadata": {
    "executionInfo": {
     "elapsed": 495,
     "status": "ok",
     "timestamp": 1696936414438,
     "user": {
      "displayName": "김기성",
      "userId": "05600356629027755631"
     },
     "user_tz": -540
    },
    "id": "5RLjbN6alXBn"
   },
   "outputs": [],
   "source": [
    "# Define a variable named \"portfolio_2\" and assign a number (float) to it\n",
    "portfolio_2 = 2000.5"
   ]
  },
  {
   "cell_type": "code",
   "execution_count": 4,
   "metadata": {
    "colab": {
     "base_uri": "https://localhost:8080/"
    },
    "executionInfo": {
     "elapsed": 336,
     "status": "ok",
     "timestamp": 1696936416270,
     "user": {
      "displayName": "김기성",
      "userId": "05600356629027755631"
     },
     "user_tz": -540
    },
    "id": "XaseHcnvlY7V",
    "outputId": "4f7b7cbb-adf2-473a-94c4-845be9d4b4ba"
   },
   "outputs": [
    {
     "name": "stdout",
     "output_type": "stream",
     "text": [
      "2000.5\n"
     ]
    }
   ],
   "source": [
    "# Let's view \"portfolio_2\"\n",
    "print(portfolio_2)"
   ]
  },
  {
   "cell_type": "code",
   "execution_count": 6,
   "metadata": {
    "executionInfo": {
     "elapsed": 3,
     "status": "ok",
     "timestamp": 1696936494043,
     "user": {
      "displayName": "김기성",
      "userId": "05600356629027755631"
     },
     "user_tz": -540
    },
    "id": "1treMfL5phXx"
   },
   "outputs": [],
   "source": [
    "# Let's overwrite \"portfolio_2\" (assume your portfolio value increased)\n",
    "portfolio_2 = 3000.5"
   ]
  },
  {
   "cell_type": "code",
   "execution_count": 8,
   "metadata": {
    "colab": {
     "base_uri": "https://localhost:8080/"
    },
    "executionInfo": {
     "elapsed": 5,
     "status": "ok",
     "timestamp": 1696936507307,
     "user": {
      "displayName": "김기성",
      "userId": "05600356629027755631"
     },
     "user_tz": -540
    },
    "id": "QaBaDH0fp5cf",
    "outputId": "167a5b80-8cbd-42d4-9944-b172eba22f2e"
   },
   "outputs": [
    {
     "name": "stdout",
     "output_type": "stream",
     "text": [
      "3000.5\n"
     ]
    }
   ],
   "source": [
    "# Notice that \"portfolio_2\" will only contain the most recent value\n",
    "print(portfolio_2)"
   ]
  },
  {
   "cell_type": "code",
   "execution_count": 9,
   "metadata": {
    "colab": {
     "base_uri": "https://localhost:8080/"
    },
    "executionInfo": {
     "elapsed": 4,
     "status": "ok",
     "timestamp": 1696936545716,
     "user": {
      "displayName": "김기성",
      "userId": "05600356629027755631"
     },
     "user_tz": -540
    },
    "id": "fqZRkUkilb-5",
    "outputId": "af006b23-9480-4e2e-9dfc-faf10c0c022d"
   },
   "outputs": [
    {
     "data": {
      "text/plain": [
       "int"
      ]
     },
     "execution_count": 9,
     "metadata": {},
     "output_type": "execute_result"
    }
   ],
   "source": [
    "# Get the type of \"portfolio_1\" which is integer\n",
    "# integer is a whole number (no decimals) that could be positive or negative\n",
    "type(portfolio_1)"
   ]
  },
  {
   "cell_type": "code",
   "execution_count": 10,
   "metadata": {
    "colab": {
     "base_uri": "https://localhost:8080/"
    },
    "executionInfo": {
     "elapsed": 5,
     "status": "ok",
     "timestamp": 1696936555877,
     "user": {
      "displayName": "김기성",
      "userId": "05600356629027755631"
     },
     "user_tz": -540
    },
    "id": "T0Rszu5xlceK",
    "outputId": "2abe6561-e7c6-461c-e8bc-aa8a0375dffe"
   },
   "outputs": [
    {
     "data": {
      "text/plain": [
       "float"
      ]
     },
     "execution_count": 10,
     "metadata": {},
     "output_type": "execute_result"
    }
   ],
   "source": [
    "# Get the type of \"portfolio_2\" which is float\n",
    "# Float are real numbers with a decimal point dividing the integer and fractional parts\n",
    "type(portfolio_2)"
   ]
  },
  {
   "cell_type": "markdown",
   "metadata": {
    "id": "75YN6NcVlv50"
   },
   "source": [
    "**MINI CHALLENGE #1:**\n",
    "- **We defined a variable AMZN (Ticker symbol for Amazon stock) and we assigned these 3 values listed below to it. Without executing any code cells, what will these lines of code generate?**\n",
    "- **Verify your answer by executing the code cells**\n",
    "\n",
    "\n",
    "\n",
    "```\n",
    "AMZN = 3324\n",
    "AMZN = 3400\n",
    "AMZN = 3530\n",
    "AMZN\n",
    "```\n"
   ]
  },
  {
   "cell_type": "code",
   "execution_count": null,
   "metadata": {
    "id": "AbXq1BsUpcpu"
   },
   "outputs": [],
   "source": [
    "# answer is ...\n",
    "3530"
   ]
  },
  {
   "cell_type": "code",
   "execution_count": 11,
   "metadata": {
    "colab": {
     "base_uri": "https://localhost:8080/"
    },
    "executionInfo": {
     "elapsed": 7,
     "status": "ok",
     "timestamp": 1696936695173,
     "user": {
      "displayName": "김기성",
      "userId": "05600356629027755631"
     },
     "user_tz": -540
    },
    "id": "BKExxMUMTubv",
    "outputId": "cfb0b80b-b6e9-4cc5-faed-5343f5defb21"
   },
   "outputs": [
    {
     "data": {
      "text/plain": [
       "3530"
      ]
     },
     "execution_count": 11,
     "metadata": {},
     "output_type": "execute_result"
    }
   ],
   "source": [
    "# check answer\n",
    "AMZN = 3324\n",
    "AMZN = 3400\n",
    "AMZN = 3530\n",
    "AMZN"
   ]
  },
  {
   "cell_type": "markdown",
   "metadata": {
    "id": "m-cJsnjeoFOa"
   },
   "source": [
    "**MINI CHALLENGE #2:**\n",
    "- **We defined a variable AAPL (Ticker symbol for Apple stock) and we assigned these 2 values listed below to it. Without executing any code cells, what will these lines of code generate?**\n",
    "- **Verify your answer by executing the code cells**\n",
    "\n",
    "\n",
    "\n",
    "```\n",
    "AAPL = 112\n",
    "AAPL = 115.3\n",
    "type(AAPL)\n",
    "```\n"
   ]
  },
  {
   "cell_type": "code",
   "execution_count": null,
   "metadata": {
    "id": "wjaFVDJ2oESl"
   },
   "outputs": [],
   "source": [
    "# answer is ...\n",
    "float"
   ]
  },
  {
   "cell_type": "code",
   "execution_count": 12,
   "metadata": {
    "colab": {
     "base_uri": "https://localhost:8080/"
    },
    "executionInfo": {
     "elapsed": 5,
     "status": "ok",
     "timestamp": 1696936724440,
     "user": {
      "displayName": "김기성",
      "userId": "05600356629027755631"
     },
     "user_tz": -540
    },
    "id": "0X5A0nY0T1_x",
    "outputId": "2d7e24e3-4447-4bf0-dc07-669b277ddc4f"
   },
   "outputs": [
    {
     "data": {
      "text/plain": [
       "float"
      ]
     },
     "execution_count": 12,
     "metadata": {},
     "output_type": "execute_result"
    }
   ],
   "source": [
    "# check answer\n",
    "AAPL = 112\n",
    "AAPL = 115.3\n",
    "type(AAPL)"
   ]
  },
  {
   "cell_type": "markdown",
   "metadata": {
    "id": "lsCfJJEkkqGQ"
   },
   "source": [
    "# 2. MATH OPERATIONS - 수학 연산"
   ]
  },
  {
   "cell_type": "code",
   "execution_count": 19,
   "metadata": {
    "colab": {
     "base_uri": "https://localhost:8080/"
    },
    "executionInfo": {
     "elapsed": 2,
     "status": "ok",
     "timestamp": 1696937111172,
     "user": {
      "displayName": "김기성",
      "userId": "05600356629027755631"
     },
     "user_tz": -540
    },
    "id": "vxspxvj2qTrx",
    "outputId": "a4680d17-8d5c-4c80-c3ca-2aa906cd237f"
   },
   "outputs": [
    {
     "data": {
      "text/plain": [
       "6"
      ]
     },
     "execution_count": 19,
     "metadata": {},
     "output_type": "execute_result"
    }
   ],
   "source": [
    "# Define a variable named AAPL and initialize it with 5 indicating that we own 5 stocks\n",
    "# Let's assume that we bought an additional stock so now we have 6 stocks instead of 5\n",
    "# We can increment AAPL by 1 stock as follows:\n",
    "AAPL = 5\n",
    "AAPL = AAPL + 1\n",
    "AAPL"
   ]
  },
  {
   "cell_type": "code",
   "execution_count": 20,
   "metadata": {
    "colab": {
     "base_uri": "https://localhost:8080/"
    },
    "executionInfo": {
     "elapsed": 3,
     "status": "ok",
     "timestamp": 1696937113078,
     "user": {
      "displayName": "김기성",
      "userId": "05600356629027755631"
     },
     "user_tz": -540
    },
    "id": "ouiM4Bjar5aG",
    "outputId": "feda86a4-fa06-4294-e881-e450b1bf6dbe"
   },
   "outputs": [
    {
     "data": {
      "text/plain": [
       "6"
      ]
     },
     "execution_count": 20,
     "metadata": {},
     "output_type": "execute_result"
    }
   ],
   "source": [
    "# Alternatively, we can increment the variable AAPL by 1 as follows:\n",
    "AAPL = 5\n",
    "AAPL += 1\n",
    "AAPL"
   ]
  },
  {
   "cell_type": "code",
   "execution_count": 22,
   "metadata": {
    "colab": {
     "base_uri": "https://localhost:8080/"
    },
    "executionInfo": {
     "elapsed": 5,
     "status": "ok",
     "timestamp": 1696937212778,
     "user": {
      "displayName": "김기성",
      "userId": "05600356629027755631"
     },
     "user_tz": -540
    },
    "id": "zkO001-qcZc3",
    "outputId": "36907ef1-ce58-4f58-d425-cc8f9fa869ea"
   },
   "outputs": [
    {
     "data": {
      "text/plain": [
       "1300"
      ]
     },
     "execution_count": 22,
     "metadata": {},
     "output_type": "execute_result"
    }
   ],
   "source": [
    "# Let's assume that the price of AAPL stock is $260 and we currently have 5 AAPL stocks in our portfolio\n",
    "# We can calculate the total portfolio value (account balance) as follows:\n",
    "AAPL_count = 5\n",
    "AAPL_price = 260\n",
    "account_balance = AAPL_price * AAPL_count\n",
    "account_balance"
   ]
  },
  {
   "cell_type": "code",
   "execution_count": 23,
   "metadata": {
    "colab": {
     "base_uri": "https://localhost:8080/"
    },
    "executionInfo": {
     "elapsed": 304,
     "status": "ok",
     "timestamp": 1696937363773,
     "user": {
      "displayName": "김기성",
      "userId": "05600356629027755631"
     },
     "user_tz": -540
    },
    "id": "4bXP93aqejr1",
    "outputId": "53eb5870-3f7f-459b-ac74-c65d80e63d33"
   },
   "outputs": [
    {
     "data": {
      "text/plain": [
       "20000"
      ]
     },
     "execution_count": 23,
     "metadata": {},
     "output_type": "execute_result"
    }
   ],
   "source": [
    "# Let's assume you have $20000 USD in our account\n",
    "# We want to buy AMZN stocks using the total amount\n",
    "# AMZN stock is priced at $3116 each\n",
    "account_balance = 20000\n",
    "account_balance"
   ]
  },
  {
   "cell_type": "code",
   "execution_count": 24,
   "metadata": {
    "colab": {
     "base_uri": "https://localhost:8080/"
    },
    "executionInfo": {
     "elapsed": 4,
     "status": "ok",
     "timestamp": 1696937395946,
     "user": {
      "displayName": "김기성",
      "userId": "05600356629027755631"
     },
     "user_tz": -540
    },
    "id": "Mc569vLOqxzg",
    "outputId": "af91f216-bebd-44e5-ae65-e306825984fa"
   },
   "outputs": [
    {
     "data": {
      "text/plain": [
       "6.418485237483954"
      ]
     },
     "execution_count": 24,
     "metadata": {},
     "output_type": "execute_result"
    }
   ],
   "source": [
    "# Divide the account balance by Amazon stock price and place the answer in units\n",
    "AMZN_price = 3116\n",
    "units = account_balance / AMZN_price\n",
    "units"
   ]
  },
  {
   "cell_type": "markdown",
   "metadata": {
    "id": "8UaT7FRdNnCQ"
   },
   "source": [
    "**MINI CHALLENGE #3:**\n",
    "- **Write a code that calculates the total value of a portfolio assuming that you own 15 Google stocks (Sticker Symbol: GOOG) priced at 1500 each**\n"
   ]
  },
  {
   "cell_type": "code",
   "execution_count": 25,
   "metadata": {
    "colab": {
     "base_uri": "https://localhost:8080/"
    },
    "executionInfo": {
     "elapsed": 3,
     "status": "ok",
     "timestamp": 1696937512135,
     "user": {
      "displayName": "김기성",
      "userId": "05600356629027755631"
     },
     "user_tz": -540
    },
    "id": "qMFnXorONnoa",
    "outputId": "708d2116-4b5d-4ade-c53a-6f6332942ba3"
   },
   "outputs": [
    {
     "data": {
      "text/plain": [
       "22500"
      ]
     },
     "execution_count": 25,
     "metadata": {},
     "output_type": "execute_result"
    }
   ],
   "source": [
    "# answer\n",
    "GOOG_price = 1500\n",
    "GOOG_stock_units = 15\n",
    "total_value = GOOG_price * GOOG_stock_units\n",
    "total_value"
   ]
  },
  {
   "cell_type": "markdown",
   "metadata": {
    "id": "iB_6pgJeNnCV"
   },
   "source": [
    "**MINI CHALLENGE #4:**\n",
    "- **Write a code that takes in Google (GOOG) stock prices at two days and calculate the return:**\n",
    "  - **GOOG price on day 1 = \\$260**\n",
    "  - **GOOG price on day 2 = \\$280**\n",
    "\n",
    "- (현재가 - 어제가) / 어제가 * 100"
   ]
  },
  {
   "cell_type": "code",
   "execution_count": 28,
   "metadata": {
    "colab": {
     "base_uri": "https://localhost:8080/"
    },
    "executionInfo": {
     "elapsed": 5,
     "status": "ok",
     "timestamp": 1696937904944,
     "user": {
      "displayName": "김기성",
      "userId": "05600356629027755631"
     },
     "user_tz": -540
    },
    "id": "fz7pL9VlW9At",
    "outputId": "b5f740ad-e09c-4af1-ea05-11f2a6df2441"
   },
   "outputs": [
    {
     "data": {
      "text/plain": [
       "7.6923076923076925"
      ]
     },
     "execution_count": 28,
     "metadata": {},
     "output_type": "execute_result"
    }
   ],
   "source": [
    "# answer\n",
    "GOOG_price_on_day_1 = 260\n",
    "GOOG_price_on_day_2 = 280\n",
    "\n",
    "price_diff = GOOG_price_on_day_2 - GOOG_price_on_day_1\n",
    "percentage_change = price_diff / GOOG_price_on_day_1 * 100\n",
    "percentage_change"
   ]
  },
  {
   "cell_type": "markdown",
   "metadata": {
    "id": "b_4wxmCklMQE"
   },
   "source": [
    "# 3. ORDER OF OPERATIONS (PRECEDENCE) - 우선순위"
   ]
  },
  {
   "cell_type": "code",
   "execution_count": 30,
   "metadata": {
    "colab": {
     "base_uri": "https://localhost:8080/"
    },
    "executionInfo": {
     "elapsed": 3,
     "status": "ok",
     "timestamp": 1696938103786,
     "user": {
      "displayName": "김기성",
      "userId": "05600356629027755631"
     },
     "user_tz": -540
    },
    "id": "PDPpISzEkov3",
    "outputId": "493a8cef-e752-4255-e238-42b5c37df8b7"
   },
   "outputs": [
    {
     "data": {
      "text/plain": [
       "35"
      ]
     },
     "execution_count": 30,
     "metadata": {},
     "output_type": "execute_result"
    }
   ],
   "source": [
    "# add 3 and 4 and then multiply the answer by 5\n",
    "# Note that parantheses have the highest precedence\n",
    "\n",
    "(3 + 4) * 5"
   ]
  },
  {
   "cell_type": "code",
   "execution_count": 32,
   "metadata": {
    "colab": {
     "base_uri": "https://localhost:8080/"
    },
    "executionInfo": {
     "elapsed": 3,
     "status": "ok",
     "timestamp": 1696938248255,
     "user": {
      "displayName": "김기성",
      "userId": "05600356629027755631"
     },
     "user_tz": -540
    },
    "id": "lqvGyX4psG6L",
    "outputId": "b76f2f24-e675-4b02-9da2-337a9585d732"
   },
   "outputs": [
    {
     "data": {
      "text/plain": [
       "7"
      ]
     },
     "execution_count": 32,
     "metadata": {},
     "output_type": "execute_result"
    }
   ],
   "source": [
    "# Multiplication has higher precedence compared to addition\n",
    "1 + 2 * 3"
   ]
  },
  {
   "cell_type": "code",
   "execution_count": 34,
   "metadata": {
    "colab": {
     "base_uri": "https://localhost:8080/"
    },
    "executionInfo": {
     "elapsed": 343,
     "status": "ok",
     "timestamp": 1696938279778,
     "user": {
      "displayName": "김기성",
      "userId": "05600356629027755631"
     },
     "user_tz": -540
    },
    "id": "Nx2IPN34sI0A",
    "outputId": "fa0f4aaf-1914-4150-debd-9a95999d8c2e"
   },
   "outputs": [
    {
     "data": {
      "text/plain": [
       "9.0"
      ]
     },
     "execution_count": 34,
     "metadata": {},
     "output_type": "execute_result"
    }
   ],
   "source": [
    "# Division has higher precedence compared to addition\n",
    "16 / 4 + 25 /5"
   ]
  },
  {
   "cell_type": "markdown",
   "metadata": {
    "id": "LD0jeVJddRrf"
   },
   "source": [
    "**MINI CHALLENGE #5:**\n",
    "- **Assume that you own 15 shares of AAPL stock priced at \\$150 a share. Apple announced the launch of 5 new products with exceptional features so the stock price increased to $170 a share. Calculate the total profit.**\n",
    "\n",
    "\n",
    "\n",
    "\n"
   ]
  },
  {
   "cell_type": "code",
   "execution_count": 39,
   "metadata": {
    "colab": {
     "base_uri": "https://localhost:8080/"
    },
    "executionInfo": {
     "elapsed": 3,
     "status": "ok",
     "timestamp": 1696938672012,
     "user": {
      "displayName": "김기성",
      "userId": "05600356629027755631"
     },
     "user_tz": -540
    },
    "id": "ieENt2DUNwDC",
    "outputId": "e895c376-c3fe-4caf-df5d-630605284932"
   },
   "outputs": [
    {
     "data": {
      "text/plain": [
       "300"
      ]
     },
     "execution_count": 39,
     "metadata": {},
     "output_type": "execute_result"
    }
   ],
   "source": [
    "# answer\n",
    "AAPL_new = 170\n",
    "AAPL_old = 150\n",
    "num_shares = 15\n",
    "profit = (AAPL_new - AAPL_old) * num_shares\n",
    "profit"
   ]
  },
  {
   "cell_type": "markdown",
   "metadata": {
    "id": "s79S7MtycPGX"
   },
   "source": [
    "**MINI CHALLENGE #6:**\n",
    "- **Write a code that performs the following mathematical operation: z = |x − y| * (x + y)**"
   ]
  },
  {
   "cell_type": "code",
   "execution_count": 40,
   "metadata": {
    "colab": {
     "base_uri": "https://localhost:8080/"
    },
    "executionInfo": {
     "elapsed": 360,
     "status": "ok",
     "timestamp": 1696938739814,
     "user": {
      "displayName": "김기성",
      "userId": "05600356629027755631"
     },
     "user_tz": -540
    },
    "id": "yGVvKkDKc0LR",
    "outputId": "0e90ea18-3c86-417c-b747-15057844726d"
   },
   "outputs": [
    {
     "data": {
      "text/plain": [
       "12"
      ]
     },
     "execution_count": 40,
     "metadata": {},
     "output_type": "execute_result"
    }
   ],
   "source": [
    "# answer\n",
    "x = 2\n",
    "y = 4\n",
    "z = abs(x - y) * (x + y)\n",
    "z"
   ]
  },
  {
   "cell_type": "markdown",
   "metadata": {
    "id": "Jvxd_A696qnl"
   },
   "source": [
    "# 4. PRINT OPERATION - 출력"
   ]
  },
  {
   "cell_type": "code",
   "execution_count": 41,
   "metadata": {
    "colab": {
     "base_uri": "https://localhost:8080/",
     "height": 35
    },
    "executionInfo": {
     "elapsed": 4,
     "status": "ok",
     "timestamp": 1696938978467,
     "user": {
      "displayName": "김기성",
      "userId": "05600356629027755631"
     },
     "user_tz": -540
    },
    "id": "74NV4Ix36wE2",
    "outputId": "a9347869-7725-43fc-fd90-5c7b3a279095"
   },
   "outputs": [
    {
     "data": {
      "application/vnd.google.colaboratory.intrinsic+json": {
       "type": "string"
      },
      "text/plain": [
       "'Welcome to Python for Finance Course'"
      ]
     },
     "execution_count": 41,
     "metadata": {},
     "output_type": "execute_result"
    }
   ],
   "source": [
    "# Print function is used to print elements on the screen\n",
    "# Define a string x\n",
    "# A string in Python is a sequence of characters\n",
    "# String in python are surrounded by single or double quotation marks\n",
    "x = 'Welcome to Python for Finance Course'\n",
    "x"
   ]
  },
  {
   "cell_type": "code",
   "execution_count": 42,
   "metadata": {
    "colab": {
     "base_uri": "https://localhost:8080/"
    },
    "executionInfo": {
     "elapsed": 2,
     "status": "ok",
     "timestamp": 1696939004977,
     "user": {
      "displayName": "김기성",
      "userId": "05600356629027755631"
     },
     "user_tz": -540
    },
    "id": "08UQhKoR8d3H",
    "outputId": "c141f53a-03bc-4b6f-ae9e-11b47364e904"
   },
   "outputs": [
    {
     "data": {
      "text/plain": [
       "str"
      ]
     },
     "execution_count": 42,
     "metadata": {},
     "output_type": "execute_result"
    }
   ],
   "source": [
    "# Obtain the data type for 'x'\n",
    "type(x)"
   ]
  },
  {
   "cell_type": "code",
   "execution_count": 43,
   "metadata": {
    "colab": {
     "base_uri": "https://localhost:8080/"
    },
    "executionInfo": {
     "elapsed": 3,
     "status": "ok",
     "timestamp": 1696939011316,
     "user": {
      "displayName": "김기성",
      "userId": "05600356629027755631"
     },
     "user_tz": -540
    },
    "id": "1nHBcL7D61YQ",
    "outputId": "ffc4ef5c-a003-44c7-8158-6fd804aa20db"
   },
   "outputs": [
    {
     "name": "stdout",
     "output_type": "stream",
     "text": [
      "Welcome to Python for Finance Course\n"
     ]
    }
   ],
   "source": [
    "# Print x\n",
    "print(x)"
   ]
  },
  {
   "cell_type": "code",
   "execution_count": 44,
   "metadata": {
    "executionInfo": {
     "elapsed": 2,
     "status": "ok",
     "timestamp": 1696939080706,
     "user": {
      "displayName": "김기성",
      "userId": "05600356629027755631"
     },
     "user_tz": -540
    },
    "id": "7JUqe3DF7WQv"
   },
   "outputs": [],
   "source": [
    "# Define a string and put 'Apple Inc.' in it\n",
    "company_name = 'Apple Inc.'"
   ]
  },
  {
   "cell_type": "code",
   "execution_count": 45,
   "metadata": {
    "colab": {
     "base_uri": "https://localhost:8080/"
    },
    "executionInfo": {
     "elapsed": 316,
     "status": "ok",
     "timestamp": 1696939173992,
     "user": {
      "displayName": "김기성",
      "userId": "05600356629027755631"
     },
     "user_tz": -540
    },
    "id": "J_r5_BGt7Wsg",
    "outputId": "f9cf8fb4-d22d-4982-bb7d-4c4cfb624587"
   },
   "outputs": [
    {
     "name": "stdout",
     "output_type": "stream",
     "text": [
      "Ticker name for Apple Inc. is AAPL\n"
     ]
    }
   ],
   "source": [
    "# The format() method formats the specified value and insert it in the placeholder.\n",
    "# The placeholder is defined using curly braces: {}\n",
    "print('Ticker name for {} is AAPL'.format(company_name))"
   ]
  },
  {
   "cell_type": "code",
   "execution_count": 46,
   "metadata": {
    "colab": {
     "base_uri": "https://localhost:8080/"
    },
    "executionInfo": {
     "elapsed": 4,
     "status": "ok",
     "timestamp": 1696939220349,
     "user": {
      "displayName": "김기성",
      "userId": "05600356629027755631"
     },
     "user_tz": -540
    },
    "id": "cn5wkGcL7Wqs",
    "outputId": "3e9c2dda-1485-4efc-c383-eeb0b8422a86"
   },
   "outputs": [
    {
     "name": "stdout",
     "output_type": "stream",
     "text": [
      "Ticker name for Apple Inc. is AAPL\n"
     ]
    }
   ],
   "source": [
    "# or\n",
    "print(f'Ticker name for {company_name} is AAPL')"
   ]
  },
  {
   "cell_type": "code",
   "execution_count": 56,
   "metadata": {
    "executionInfo": {
     "elapsed": 2,
     "status": "ok",
     "timestamp": 1696939575791,
     "user": {
      "displayName": "김기성",
      "userId": "05600356629027755631"
     },
     "user_tz": -540
    },
    "id": "4l9s-WbSdhG4"
   },
   "outputs": [],
   "source": [
    "shares = 50"
   ]
  },
  {
   "cell_type": "code",
   "execution_count": 57,
   "metadata": {
    "colab": {
     "base_uri": "https://localhost:8080/"
    },
    "executionInfo": {
     "elapsed": 3,
     "status": "ok",
     "timestamp": 1696939576902,
     "user": {
      "displayName": "김기성",
      "userId": "05600356629027755631"
     },
     "user_tz": -540
    },
    "id": "mcIEXuw47Wpk",
    "outputId": "604ffbc1-9a7c-4b20-ca5a-dfd89898b854"
   },
   "outputs": [
    {
     "name": "stdout",
     "output_type": "stream",
     "text": [
      "I own 50 shares of Apple Inc. \n"
     ]
    }
   ],
   "source": [
    "# You can place two or more placeholders with print function\n",
    "print('I own {} shares of {} '.format(shares, company_name))"
   ]
  },
  {
   "cell_type": "markdown",
   "metadata": {
    "id": "__Ybj8rmGKpY"
   },
   "source": [
    "**MINI CHALLENGE #7:**\n",
    "- **Write a code that print out the above statement along with AAPL ticker**\n",
    "- **i.e.: I own 30 shares of Apple Inc.(AAPL)**"
   ]
  },
  {
   "cell_type": "code",
   "execution_count": 55,
   "metadata": {
    "colab": {
     "base_uri": "https://localhost:8080/"
    },
    "executionInfo": {
     "elapsed": 3,
     "status": "ok",
     "timestamp": 1696939547161,
     "user": {
      "displayName": "김기성",
      "userId": "05600356629027755631"
     },
     "user_tz": -540
    },
    "id": "i6LmOCF6Gd6G",
    "outputId": "dc739526-833d-42bf-ccf3-815238899796"
   },
   "outputs": [
    {
     "name": "stdout",
     "output_type": "stream",
     "text": [
      "I own 30 shares of Apple Inc.(AAPL)\n"
     ]
    }
   ],
   "source": [
    "shares = 30\n",
    "company_name = 'Apple Inc.'\n",
    "ticker = 'AAPL'\n",
    "print('I own {} shares of {}({})'.format(shares, company_name, ticker))"
   ]
  },
  {
   "cell_type": "markdown",
   "metadata": {
    "id": "hp9P-qXN-Gll"
   },
   "source": [
    "# 5. GET USER INPUT - 사용자 입력 가져오기"
   ]
  },
  {
   "cell_type": "code",
   "execution_count": 58,
   "metadata": {
    "colab": {
     "base_uri": "https://localhost:8080/",
     "height": 53
    },
    "executionInfo": {
     "elapsed": 5356,
     "status": "ok",
     "timestamp": 1696940307332,
     "user": {
      "displayName": "김기성",
      "userId": "05600356629027755631"
     },
     "user_tz": -540
    },
    "id": "FFghOQVi7Wh_",
    "outputId": "fd467817-81ba-429f-e5ed-85b6c6b3c7d5"
   },
   "outputs": [
    {
     "name": "stdout",
     "output_type": "stream",
     "text": [
      "Welcome to the bank, What's your name: Gilbert\n"
     ]
    },
    {
     "data": {
      "application/vnd.google.colaboratory.intrinsic+json": {
       "type": "string"
      },
      "text/plain": [
       "'Gilbert'"
      ]
     },
     "execution_count": 58,
     "metadata": {},
     "output_type": "execute_result"
    }
   ],
   "source": [
    "# input is a built-in function in python\n",
    "# Get bank client name as an input and print it out on the screen\n",
    "name = input(\"Welcome to the bank, What's your name: \")\n",
    "name"
   ]
  },
  {
   "cell_type": "code",
   "execution_count": 60,
   "metadata": {
    "colab": {
     "base_uri": "https://localhost:8080/"
    },
    "executionInfo": {
     "elapsed": 48936,
     "status": "ok",
     "timestamp": 1696940711635,
     "user": {
      "displayName": "김기성",
      "userId": "05600356629027755631"
     },
     "user_tz": -540
    },
    "id": "u4D5GDGP7Wgm",
    "outputId": "95b7e974-0f62-4957-8f7b-9c40a246795d"
   },
   "outputs": [
    {
     "name": "stdout",
     "output_type": "stream",
     "text": [
      "Welcome to the bank, please enter your name: Gilbert\n",
      "Please Enter your age: 20\n",
      "Please Enter your total netwoth (asset - libilities)3000\n",
      "My name is Gilbert, I am 20 years old, and my estimated networth is 3000\n"
     ]
    }
   ],
   "source": [
    "# Obtain bank client data such as name, age and assets and print them all out on the screen\n",
    "name = input(\"Welcome to the bank, please enter your name: \")\n",
    "age = input(\"Please Enter your age: \")\n",
    "# 순재산액 계산 -> 총 자산 - 부채\n",
    "networth = input(\"Please Enter your total netwoth (asset - libilities)\")\n",
    "\n",
    "print(\"My name is {}, I am {} years old, and my estimated networth is {}\".format(name, age, networth))"
   ]
  },
  {
   "cell_type": "code",
   "execution_count": 62,
   "metadata": {
    "colab": {
     "base_uri": "https://localhost:8080/",
     "height": 263
    },
    "executionInfo": {
     "elapsed": 4777,
     "status": "error",
     "timestamp": 1696940968588,
     "user": {
      "displayName": "김기성",
      "userId": "05600356629027755631"
     },
     "user_tz": -540
    },
    "id": "W6hQp4YP7Wdr",
    "outputId": "1b000918-204d-4268-de4d-d79b9a96066d"
   },
   "outputs": [
    {
     "name": "stdout",
     "output_type": "stream",
     "text": [
      "Please enter of AAPL stock today: 3000\n",
      "Please enter the number of AAPL stocks that you want to buy: 20\n"
     ]
    },
    {
     "ename": "TypeError",
     "evalue": "ignored",
     "output_type": "error",
     "traceback": [
      "\u001b[0;31m---------------------------------------------------------------------------\u001b[0m",
      "\u001b[0;31mTypeError\u001b[0m                                 Traceback (most recent call last)",
      "\u001b[0;32m<ipython-input-62-d91bebb306bb>\u001b[0m in \u001b[0;36m<cell line: 5>\u001b[0;34m()\u001b[0m\n\u001b[1;32m      3\u001b[0m \u001b[0mx\u001b[0m \u001b[0;34m=\u001b[0m \u001b[0minput\u001b[0m\u001b[0;34m(\u001b[0m\u001b[0;34m\"Please enter of AAPL stock today: \"\u001b[0m\u001b[0;34m)\u001b[0m\u001b[0;34m\u001b[0m\u001b[0;34m\u001b[0m\u001b[0m\n\u001b[1;32m      4\u001b[0m \u001b[0my\u001b[0m \u001b[0;34m=\u001b[0m \u001b[0minput\u001b[0m\u001b[0;34m(\u001b[0m\u001b[0;34m\"Please enter the number of AAPL stocks that you want to buy: \"\u001b[0m\u001b[0;34m)\u001b[0m\u001b[0;34m\u001b[0m\u001b[0;34m\u001b[0m\u001b[0m\n\u001b[0;32m----> 5\u001b[0;31m \u001b[0mz\u001b[0m \u001b[0;34m=\u001b[0m \u001b[0mx\u001b[0m \u001b[0;34m*\u001b[0m \u001b[0my\u001b[0m\u001b[0;34m\u001b[0m\u001b[0;34m\u001b[0m\u001b[0m\n\u001b[0m\u001b[1;32m      6\u001b[0m \u001b[0mprint\u001b[0m\u001b[0;34m(\u001b[0m\u001b[0;34m\"Total funds required to buy {} shares of AAPL stock at {} dollars is {} \"\u001b[0m\u001b[0;34m.\u001b[0m\u001b[0mformat\u001b[0m\u001b[0;34m(\u001b[0m\u001b[0my\u001b[0m\u001b[0;34m,\u001b[0m \u001b[0mx\u001b[0m\u001b[0;34m,\u001b[0m \u001b[0mz\u001b[0m\u001b[0;34m)\u001b[0m\u001b[0;34m)\u001b[0m\u001b[0;34m\u001b[0m\u001b[0;34m\u001b[0m\u001b[0m\n",
      "\u001b[0;31mTypeError\u001b[0m: can't multiply sequence by non-int of type 'str'"
     ]
    }
   ],
   "source": [
    "# Obtain user inputs, perform mathematical operation, and print the results\n",
    "# Note: Are you getting an error? Move to the next code cell\n",
    "x = input(\"Please enter of AAPL stock today: \")\n",
    "y = input(\"Please enter the number of AAPL stocks that you want to buy: \")\n",
    "z = x * y\n",
    "print(\"Total funds required to buy {} shares of AAPL stock at {} dollars is {} \".format(y, x, z))"
   ]
  },
  {
   "cell_type": "code",
   "execution_count": 63,
   "metadata": {
    "colab": {
     "base_uri": "https://localhost:8080/"
    },
    "executionInfo": {
     "elapsed": 4953,
     "status": "ok",
     "timestamp": 1696940998525,
     "user": {
      "displayName": "김기성",
      "userId": "05600356629027755631"
     },
     "user_tz": -540
    },
    "id": "abPg-86q7Waq",
    "outputId": "cba484a0-4e07-4e7e-bd68-0de9eff78929"
   },
   "outputs": [
    {
     "name": "stdout",
     "output_type": "stream",
     "text": [
      "Please enter of AAPL stock today: 3000\n",
      "Please enter the number of AAPL stocks that you want to buy: 20\n",
      "Total funds required to buy 20 shares of AAPL stock at 3000 dollars is 60000 \n"
     ]
    }
   ],
   "source": [
    "# Convert from string datatype to integer datatype prior to performing addition\n",
    "x = input(\"Please enter of AAPL stock today: \")\n",
    "x = int(x)\n",
    "y = input(\"Please enter the number of AAPL stocks that you want to buy: \")\n",
    "y = int(y)\n",
    "z = x * y\n",
    "print(\"Total funds required to buy {} shares of AAPL stock at {} dollars is {} \".format(y, x, z))"
   ]
  },
  {
   "cell_type": "markdown",
   "metadata": {
    "id": "L8v5D4y1CIUQ"
   },
   "source": [
    "**MINI CHALLENGE #8:**\n",
    "- **Write a code that takes in the name of the stock, price at which it is selling, the number of stocks that you want to own and prints out the total funds required to buy this stock. Find a sample expected output below:**\n",
    "\n",
    "  - Enter the price of the stock you want to buy: 3000  \n",
    "  - Enter the number of stocks that you want to buy: 5\n",
    "  - Enter the name of the stock that you want to buy: AMZN\n",
    "  - The total funds required to buy 5 number of AMZN stocks at 3000 is 15000\n"
   ]
  },
  {
   "cell_type": "code",
   "execution_count": 64,
   "metadata": {
    "colab": {
     "base_uri": "https://localhost:8080/"
    },
    "executionInfo": {
     "elapsed": 12349,
     "status": "ok",
     "timestamp": 1696941300180,
     "user": {
      "displayName": "김기성",
      "userId": "05600356629027755631"
     },
     "user_tz": -540
    },
    "id": "cGZGS0jakX_b",
    "outputId": "d47f68ac-74c2-4946-a715-4db4c4ed7319"
   },
   "outputs": [
    {
     "name": "stdout",
     "output_type": "stream",
     "text": [
      "Enter the price of the stock you want to buy: 3000\n",
      "Enter the number of stocks that you want to buy: 5\n",
      "Enter the name of the stock that you want to buy: AMZN\n",
      "The total funds required to buy 5 number of AMZN stocks at 3000 is 15000\n"
     ]
    }
   ],
   "source": [
    "# answer\n",
    "stock_price = input(\"Enter the price of the stock you want to buy: \")\n",
    "stock_price = int(stock_price)\n",
    "\n",
    "shares = input(\"Enter the number of stocks that you want to buy: \")\n",
    "shares = int(shares)\n",
    "\n",
    "total = stock_price * shares\n",
    "total = str(total)\n",
    "\n",
    "ticker = input(\"Enter the name of the stock that you want to buy: \")\n",
    "\n",
    "print(f\"The total funds required to buy {shares} number of {ticker} stocks at {stock_price} is {total}\")"
   ]
  }
 ],
 "metadata": {
  "accelerator": "GPU",
  "colab": {
   "gpuType": "T4",
   "provenance": []
  },
  "kernelspec": {
   "display_name": "Python 3 (ipykernel)",
   "language": "python",
   "name": "python3"
  },
  "language_info": {
   "codemirror_mode": {
    "name": "ipython",
    "version": 3
   },
   "file_extension": ".py",
   "mimetype": "text/x-python",
   "name": "python",
   "nbconvert_exporter": "python",
   "pygments_lexer": "ipython3",
   "version": "3.8.12"
  }
 },
 "nbformat": 4,
 "nbformat_minor": 1
}
