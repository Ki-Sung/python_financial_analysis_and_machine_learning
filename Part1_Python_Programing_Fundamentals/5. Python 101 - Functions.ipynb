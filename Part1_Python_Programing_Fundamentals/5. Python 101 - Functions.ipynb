{
 "cells": [
  {
   "cell_type": "markdown",
   "metadata": {
    "colab_type": "text",
    "id": "2qdHbV6LKCdn"
   },
   "source": [
    "# 1. BUILT-IN FUNCTIONS"
   ]
  },
  {
   "cell_type": "code",
   "execution_count": 4,
   "metadata": {
    "colab": {},
    "colab_type": "code",
    "id": "e027nLRtKclL"
   },
   "outputs": [],
   "source": [
    "# There are many built-in functions that you can leverage directly \n",
    "# Let's define 2 lists x and y\n",
    "x = [4, 5, 1, 2, 8, 5]\n",
    "y = list(range(1, 7))"
   ]
  },
  {
   "cell_type": "code",
   "execution_count": 5,
   "metadata": {
    "colab": {
     "base_uri": "https://localhost:8080/",
     "height": 34
    },
    "colab_type": "code",
    "executionInfo": {
     "elapsed": 619,
     "status": "ok",
     "timestamp": 1599886879785,
     "user": {
      "displayName": "Stemplicity",
      "photoUrl": "https://lh3.googleusercontent.com/a-/AOh14Gj2vCFt-bD5mPBhUWX0QA6xiBgoXQXtwUm2jgjaCg=s64",
      "userId": "10668071569687886186"
     },
     "user_tz": 240
    },
    "id": "B_q1ds-xKcnQ",
    "outputId": "f8140ad3-dcf9-477e-ce2b-f401ad767877"
   },
   "outputs": [
    {
     "name": "stdout",
     "output_type": "stream",
     "text": [
      "[4, 5, 1, 2, 8, 5]\n"
     ]
    }
   ],
   "source": [
    "print(x)"
   ]
  },
  {
   "cell_type": "code",
   "execution_count": 3,
   "metadata": {
    "colab": {
     "base_uri": "https://localhost:8080/",
     "height": 34
    },
    "colab_type": "code",
    "executionInfo": {
     "elapsed": 611,
     "status": "ok",
     "timestamp": 1599886879786,
     "user": {
      "displayName": "Stemplicity",
      "photoUrl": "https://lh3.googleusercontent.com/a-/AOh14Gj2vCFt-bD5mPBhUWX0QA6xiBgoXQXtwUm2jgjaCg=s64",
      "userId": "10668071569687886186"
     },
     "user_tz": 240
    },
    "id": "wlYds_UIK3Uq",
    "outputId": "7b4c1411-b5cb-46b9-8d54-61a2f77170de"
   },
   "outputs": [
    {
     "name": "stdout",
     "output_type": "stream",
     "text": [
      "[1, 2, 3, 4, 5, 6]\n"
     ]
    }
   ],
   "source": [
    "print(y)"
   ]
  },
  {
   "cell_type": "code",
   "execution_count": 6,
   "metadata": {
    "colab": {
     "base_uri": "https://localhost:8080/",
     "height": 34
    },
    "colab_type": "code",
    "executionInfo": {
     "elapsed": 602,
     "status": "ok",
     "timestamp": 1599886879787,
     "user": {
      "displayName": "Stemplicity",
      "photoUrl": "https://lh3.googleusercontent.com/a-/AOh14Gj2vCFt-bD5mPBhUWX0QA6xiBgoXQXtwUm2jgjaCg=s64",
      "userId": "10668071569687886186"
     },
     "user_tz": 240
    },
    "id": "sOb6YyohK3XA",
    "outputId": "c6f223f0-c483-4f19-8358-ecda256440a3"
   },
   "outputs": [
    {
     "data": {
      "text/plain": [
       "6"
      ]
     },
     "execution_count": 6,
     "metadata": {},
     "output_type": "execute_result"
    }
   ],
   "source": [
    "# Let's obtain the length of y\n",
    "len(y)"
   ]
  },
  {
   "cell_type": "code",
   "execution_count": 7,
   "metadata": {
    "colab": {
     "base_uri": "https://localhost:8080/",
     "height": 34
    },
    "colab_type": "code",
    "executionInfo": {
     "elapsed": 594,
     "status": "ok",
     "timestamp": 1599886879788,
     "user": {
      "displayName": "Stemplicity",
      "photoUrl": "https://lh3.googleusercontent.com/a-/AOh14Gj2vCFt-bD5mPBhUWX0QA6xiBgoXQXtwUm2jgjaCg=s64",
      "userId": "10668071569687886186"
     },
     "user_tz": 240
    },
    "id": "E2d-scjBK3f_",
    "outputId": "a094c61a-505f-4963-c1d3-c4931157fe6d"
   },
   "outputs": [
    {
     "data": {
      "text/plain": [
       "1"
      ]
     },
     "execution_count": 7,
     "metadata": {},
     "output_type": "execute_result"
    }
   ],
   "source": [
    "# Let's obtain the minimum value \n",
    "min(x)"
   ]
  },
  {
   "cell_type": "code",
   "execution_count": 8,
   "metadata": {
    "colab": {
     "base_uri": "https://localhost:8080/",
     "height": 34
    },
    "colab_type": "code",
    "executionInfo": {
     "elapsed": 365,
     "status": "ok",
     "timestamp": 1599886883262,
     "user": {
      "displayName": "Stemplicity",
      "photoUrl": "https://lh3.googleusercontent.com/a-/AOh14Gj2vCFt-bD5mPBhUWX0QA6xiBgoXQXtwUm2jgjaCg=s64",
      "userId": "10668071569687886186"
     },
     "user_tz": 240
    },
    "id": "MPcUuoY6K3id",
    "outputId": "b3ba4377-b89f-4fed-933d-0c3f817fb8f4"
   },
   "outputs": [
    {
     "data": {
      "text/plain": [
       "8"
      ]
     },
     "execution_count": 8,
     "metadata": {},
     "output_type": "execute_result"
    }
   ],
   "source": [
    "# Let's obtain the maximum value\n",
    "max(x)"
   ]
  },
  {
   "cell_type": "code",
   "execution_count": 9,
   "metadata": {
    "colab": {},
    "colab_type": "code",
    "id": "oo4EvfwgK3nQ"
   },
   "outputs": [],
   "source": [
    "# Let's create a tuple out of the list\n",
    "z = tuple(x)"
   ]
  },
  {
   "cell_type": "code",
   "execution_count": 10,
   "metadata": {
    "colab": {
     "base_uri": "https://localhost:8080/",
     "height": 34
    },
    "colab_type": "code",
    "executionInfo": {
     "elapsed": 341,
     "status": "ok",
     "timestamp": 1599886885547,
     "user": {
      "displayName": "Stemplicity",
      "photoUrl": "https://lh3.googleusercontent.com/a-/AOh14Gj2vCFt-bD5mPBhUWX0QA6xiBgoXQXtwUm2jgjaCg=s64",
      "userId": "10668071569687886186"
     },
     "user_tz": 240
    },
    "id": "gbcSW9n5Lrf0",
    "outputId": "84cbc026-efd1-4bdc-bb82-3854ffd073e3"
   },
   "outputs": [
    {
     "name": "stdout",
     "output_type": "stream",
     "text": [
      "(4, 5, 1, 2, 8, 5)\n"
     ]
    }
   ],
   "source": [
    "print(z)"
   ]
  },
  {
   "cell_type": "code",
   "execution_count": 11,
   "metadata": {
    "colab": {
     "base_uri": "https://localhost:8080/",
     "height": 34
    },
    "colab_type": "code",
    "executionInfo": {
     "elapsed": 353,
     "status": "ok",
     "timestamp": 1599886886650,
     "user": {
      "displayName": "Stemplicity",
      "photoUrl": "https://lh3.googleusercontent.com/a-/AOh14Gj2vCFt-bD5mPBhUWX0QA6xiBgoXQXtwUm2jgjaCg=s64",
      "userId": "10668071569687886186"
     },
     "user_tz": 240
    },
    "id": "S-BLWy_AK3lL",
    "outputId": "aa12247e-aa4e-48d1-837e-b730026e7909"
   },
   "outputs": [
    {
     "data": {
      "text/plain": [
       "tuple"
      ]
     },
     "execution_count": 11,
     "metadata": {},
     "output_type": "execute_result"
    }
   ],
   "source": [
    "type(z)"
   ]
  },
  {
   "cell_type": "code",
   "execution_count": 12,
   "metadata": {
    "colab": {
     "base_uri": "https://localhost:8080/",
     "height": 34
    },
    "colab_type": "code",
    "executionInfo": {
     "elapsed": 346,
     "status": "ok",
     "timestamp": 1599886887923,
     "user": {
      "displayName": "Stemplicity",
      "photoUrl": "https://lh3.googleusercontent.com/a-/AOh14Gj2vCFt-bD5mPBhUWX0QA6xiBgoXQXtwUm2jgjaCg=s64",
      "userId": "10668071569687886186"
     },
     "user_tz": 240
    },
    "id": "NYVetBn-Kcpk",
    "outputId": "46c9b741-ded3-4c8d-fff5-c81a9735791c"
   },
   "outputs": [
    {
     "data": {
      "text/plain": [
       "25"
      ]
     },
     "execution_count": 12,
     "metadata": {},
     "output_type": "execute_result"
    }
   ],
   "source": [
    "# Let's obtain the sum of elements in x\n",
    "sum(x)"
   ]
  },
  {
   "cell_type": "markdown",
   "metadata": {
    "colab_type": "text",
    "id": "CvaYA-XocFOc"
   },
   "source": [
    "**MINI CHALLENGE #1:**\n",
    "- **Write a code that takes in 2 lists x = [-1 -4 -7] and y = [-3 7 4] and  calculates the absolute sum of all its elements |x+y|**\n"
   ]
  },
  {
   "cell_type": "code",
   "execution_count": 15,
   "metadata": {
    "colab": {},
    "colab_type": "code",
    "id": "DMYqI7CBekNI"
   },
   "outputs": [
    {
     "data": {
      "text/plain": [
       "4"
      ]
     },
     "execution_count": 15,
     "metadata": {},
     "output_type": "execute_result"
    }
   ],
   "source": [
    "# answer\n",
    "x = [-1, -4, -7] \n",
    "y = [-3, 7, 4]\n",
    "\n",
    "z = abs(sum(x + y))\n",
    "z"
   ]
  },
  {
   "cell_type": "markdown",
   "metadata": {
    "colab_type": "text",
    "id": "AHrwK11xMArY"
   },
   "source": [
    "# 2. FUNCTIONS"
   ]
  },
  {
   "cell_type": "code",
   "execution_count": 20,
   "metadata": {
    "colab": {},
    "colab_type": "code",
    "id": "LhhFvM60MGrX"
   },
   "outputs": [],
   "source": [
    "# Let's define a function named \"my_function\" that does not receive any arguments\n",
    "# The function simply prints out content and does not return anything\n",
    "def my_fucntion():\n",
    "    print(\"Welcome to Python for Finance course!\")"
   ]
  },
  {
   "cell_type": "code",
   "execution_count": 21,
   "metadata": {
    "colab": {
     "base_uri": "https://localhost:8080/",
     "height": 34
    },
    "colab_type": "code",
    "executionInfo": {
     "elapsed": 323,
     "status": "ok",
     "timestamp": 1599887012188,
     "user": {
      "displayName": "Stemplicity",
      "photoUrl": "https://lh3.googleusercontent.com/a-/AOh14Gj2vCFt-bD5mPBhUWX0QA6xiBgoXQXtwUm2jgjaCg=s64",
      "userId": "10668071569687886186"
     },
     "user_tz": 240
    },
    "id": "-jJdkGlGMGwE",
    "outputId": "63e8ffc8-6b96-4483-ae0e-9ec4066b8442"
   },
   "outputs": [
    {
     "name": "stdout",
     "output_type": "stream",
     "text": [
      "Welcome to Python for Finance course!\n"
     ]
    }
   ],
   "source": [
    "# Function call\n",
    "my_fucntion()"
   ]
  },
  {
   "cell_type": "code",
   "execution_count": 24,
   "metadata": {
    "colab": {},
    "colab_type": "code",
    "id": "OSVyOu91MGuW"
   },
   "outputs": [],
   "source": [
    "# Define a function that takes in argument x and return the squared value \n",
    "def squared(x):\n",
    "    return x ** 2"
   ]
  },
  {
   "cell_type": "code",
   "execution_count": 28,
   "metadata": {
    "colab": {
     "base_uri": "https://localhost:8080/",
     "height": 34
    },
    "colab_type": "code",
    "executionInfo": {
     "elapsed": 339,
     "status": "ok",
     "timestamp": 1599887020435,
     "user": {
      "displayName": "Stemplicity",
      "photoUrl": "https://lh3.googleusercontent.com/a-/AOh14Gj2vCFt-bD5mPBhUWX0QA6xiBgoXQXtwUm2jgjaCg=s64",
      "userId": "10668071569687886186"
     },
     "user_tz": 240
    },
    "id": "NVPrMz2_MPz1",
    "outputId": "1e0da465-5c08-431e-8859-1952509d8493"
   },
   "outputs": [
    {
     "data": {
      "text/plain": [
       "64"
      ]
     },
     "execution_count": 28,
     "metadata": {},
     "output_type": "execute_result"
    }
   ],
   "source": [
    "# Call the function\n",
    "output = squared(8)\n",
    "output"
   ]
  },
  {
   "cell_type": "code",
   "execution_count": 31,
   "metadata": {
    "colab": {},
    "colab_type": "code",
    "id": "6ET-hFiSMPxi"
   },
   "outputs": [],
   "source": [
    "# Define a function with default value - 함수 초기값 정하기 \n",
    "def my_fucntion(amount=0.0):\n",
    "    print(f\"My total portfolio worth is = {amount}\")"
   ]
  },
  {
   "cell_type": "code",
   "execution_count": 34,
   "metadata": {},
   "outputs": [
    {
     "name": "stdout",
     "output_type": "stream",
     "text": [
      "My total portfolio worth is = 0.0\n"
     ]
    }
   ],
   "source": [
    "# 인자를 넣지 않았을 경우 \n",
    "output = my_fucntion()\n",
    "output"
   ]
  },
  {
   "cell_type": "code",
   "execution_count": 35,
   "metadata": {
    "colab": {
     "base_uri": "https://localhost:8080/",
     "height": 34
    },
    "colab_type": "code",
    "executionInfo": {
     "elapsed": 377,
     "status": "ok",
     "timestamp": 1599887043491,
     "user": {
      "displayName": "Stemplicity",
      "photoUrl": "https://lh3.googleusercontent.com/a-/AOh14Gj2vCFt-bD5mPBhUWX0QA6xiBgoXQXtwUm2jgjaCg=s64",
      "userId": "10668071569687886186"
     },
     "user_tz": 240
    },
    "id": "-tiaDshNM48J",
    "outputId": "32c1547d-6ea0-4b8d-ccef-f83a320a8a83"
   },
   "outputs": [
    {
     "name": "stdout",
     "output_type": "stream",
     "text": [
      "My total portfolio worth is = 4000\n"
     ]
    }
   ],
   "source": [
    "# If you pass an argument to the function, it overwrites the default value \n",
    "output = my_fucntion(4000)\n",
    "output"
   ]
  },
  {
   "cell_type": "code",
   "execution_count": 36,
   "metadata": {
    "colab": {
     "base_uri": "https://localhost:8080/",
     "height": 34
    },
    "colab_type": "code",
    "executionInfo": {
     "elapsed": 266,
     "status": "ok",
     "timestamp": 1599887055518,
     "user": {
      "displayName": "Stemplicity",
      "photoUrl": "https://lh3.googleusercontent.com/a-/AOh14Gj2vCFt-bD5mPBhUWX0QA6xiBgoXQXtwUm2jgjaCg=s64",
      "userId": "10668071569687886186"
     },
     "user_tz": 240
    },
    "id": "-cPR_Cg-M6nm",
    "outputId": "fe137ebc-5056-4d8b-d2de-1bde60a46bcd"
   },
   "outputs": [
    {
     "name": "stdout",
     "output_type": "stream",
     "text": [
      "My total portfolio worth is = 20000\n"
     ]
    }
   ],
   "source": [
    "# If you don't pass an argument, the default value \"20000\" will be used instead\n",
    "def my_fucntion(amount=20000):\n",
    "    print(f\"My total portfolio worth is = {amount}\")\n",
    "    \n",
    "output = my_fucntion()\n",
    "output"
   ]
  },
  {
   "cell_type": "markdown",
   "metadata": {
    "colab_type": "text",
    "id": "DB1zlBEEfDlA"
   },
   "source": [
    "**MINI CHALLENGE #2:** \n",
    "- **Write a code that takes in two inputs (number of shares and prices) from the user and calculate the total account balance**\n",
    "- **사용자로부터 개수와 가격을 입력 받아 경상수지 계산**\n",
    "    - 경상수지는 경제적으로 항상 일어나는 일로 발생하는 수지타산 "
   ]
  },
  {
   "cell_type": "code",
   "execution_count": 39,
   "metadata": {
    "colab": {},
    "colab_type": "code",
    "id": "s7fbv5eApK97"
   },
   "outputs": [],
   "source": [
    "# answer\n",
    "def total(units, price):\n",
    "    amount = units * price\n",
    "    return amount"
   ]
  },
  {
   "cell_type": "code",
   "execution_count": 41,
   "metadata": {},
   "outputs": [
    {
     "name": "stdout",
     "output_type": "stream",
     "text": [
      "Enter the number of shares: 100\n",
      "Enter the price per share: 3300\n",
      "Total account balace = 330000\n"
     ]
    }
   ],
   "source": [
    "# call function for total\n",
    "num_shares = int(input(\"Enter the number of shares: \"))\n",
    "price = int(input(\"Enter the price per share: \"))\n",
    "\n",
    "account_balance = total(num_shares, price)\n",
    "print(f\"Total account balace = {account_balance}\")"
   ]
  },
  {
   "cell_type": "markdown",
   "metadata": {
    "colab_type": "text",
    "id": "lBj4QkQEpLkX"
   },
   "source": [
    "# 3. LAMBDA EXPRESSIONS \n",
    "- 람다 함수는 이름을 명명하지 않고도 활용할 수 있는 함수를 말한다. \n",
    "- 람다 함수는 filter와 Map과 함께 주로 활용된다.\n",
    "- 람다 함수는 인자로 어떤 값도 받을 수 있지만 표현식은 하나만 가질 수 있다."
   ]
  },
  {
   "cell_type": "code",
   "execution_count": null,
   "metadata": {
    "colab": {},
    "colab_type": "code",
    "id": "YtkjNLEypRTb"
   },
   "outputs": [],
   "source": [
    "# Lambda function is used to create a function without a name \n",
    "# Lambda functions are mainly used with filter() and map() [they will be discussed later on]. \n",
    "# Lambda function can receive any number of arguments, but can only have one expression."
   ]
  },
  {
   "cell_type": "code",
   "execution_count": 44,
   "metadata": {
    "colab": {},
    "colab_type": "code",
    "id": "FV5-hEWdpRdd"
   },
   "outputs": [],
   "source": [
    "# let's see how to create a basic function that squares the input\n",
    "def my_function(x):\n",
    "    return x ** 2"
   ]
  },
  {
   "cell_type": "code",
   "execution_count": 45,
   "metadata": {
    "colab": {
     "base_uri": "https://localhost:8080/",
     "height": 34
    },
    "colab_type": "code",
    "executionInfo": {
     "elapsed": 329,
     "status": "ok",
     "timestamp": 1599887372070,
     "user": {
      "displayName": "Stemplicity",
      "photoUrl": "https://lh3.googleusercontent.com/a-/AOh14Gj2vCFt-bD5mPBhUWX0QA6xiBgoXQXtwUm2jgjaCg=s64",
      "userId": "10668071569687886186"
     },
     "user_tz": 240
    },
    "id": "cQZDrvwCpRa3",
    "outputId": "bfba65d8-ba03-4343-f431-a37c20cbed51"
   },
   "outputs": [
    {
     "data": {
      "text/plain": [
       "9"
      ]
     },
     "execution_count": 45,
     "metadata": {},
     "output_type": "execute_result"
    }
   ],
   "source": [
    "# Function call\n",
    "my_function(3)"
   ]
  },
  {
   "cell_type": "code",
   "execution_count": 46,
   "metadata": {
    "colab": {},
    "colab_type": "code",
    "id": "r5u0-IOBpRZq"
   },
   "outputs": [],
   "source": [
    "# We can do the same task using Lambda expression\n",
    "# Note that there is no function name\n",
    "y = lambda x : x ** 2      # 람다 함수로 x를 취하고 x의 제곱을 반환받고 그 반환된 값이 y가 된다."
   ]
  },
  {
   "cell_type": "code",
   "execution_count": 47,
   "metadata": {
    "colab": {
     "base_uri": "https://localhost:8080/",
     "height": 34
    },
    "colab_type": "code",
    "executionInfo": {
     "elapsed": 316,
     "status": "ok",
     "timestamp": 1599887376028,
     "user": {
      "displayName": "Stemplicity",
      "photoUrl": "https://lh3.googleusercontent.com/a-/AOh14Gj2vCFt-bD5mPBhUWX0QA6xiBgoXQXtwUm2jgjaCg=s64",
      "userId": "10668071569687886186"
     },
     "user_tz": 240
    },
    "id": "hLsuWg7apRW9",
    "outputId": "2b84500b-7809-437f-c6ac-9075ec029c7d"
   },
   "outputs": [
    {
     "data": {
      "text/plain": [
       "9"
      ]
     },
     "execution_count": 47,
     "metadata": {},
     "output_type": "execute_result"
    }
   ],
   "source": [
    "y(3)"
   ]
  },
  {
   "cell_type": "code",
   "execution_count": 48,
   "metadata": {
    "colab": {},
    "colab_type": "code",
    "id": "OKcE7JHBuzTj"
   },
   "outputs": [],
   "source": [
    "# Note that lambda expression can take in more than one argument \n",
    "# there is only one expression that could be performed\n",
    "def sumation(x, y, z):\n",
    "    return x + y + z"
   ]
  },
  {
   "cell_type": "code",
   "execution_count": 50,
   "metadata": {
    "colab": {
     "base_uri": "https://localhost:8080/",
     "height": 34
    },
    "colab_type": "code",
    "executionInfo": {
     "elapsed": 323,
     "status": "ok",
     "timestamp": 1599887396088,
     "user": {
      "displayName": "Stemplicity",
      "photoUrl": "https://lh3.googleusercontent.com/a-/AOh14Gj2vCFt-bD5mPBhUWX0QA6xiBgoXQXtwUm2jgjaCg=s64",
      "userId": "10668071569687886186"
     },
     "user_tz": 240
    },
    "id": "VyEdRTwXuzQ4",
    "outputId": "5b67464b-dc5a-4274-908b-85a0e973181e"
   },
   "outputs": [
    {
     "data": {
      "text/plain": [
       "6"
      ]
     },
     "execution_count": 50,
     "metadata": {},
     "output_type": "execute_result"
    }
   ],
   "source": [
    "result = sumation(1, 2, 3)\n",
    "result"
   ]
  },
  {
   "cell_type": "code",
   "execution_count": 51,
   "metadata": {
    "colab": {},
    "colab_type": "code",
    "id": "kAuNql-zuzPE"
   },
   "outputs": [],
   "source": [
    "result = lambda x, y, z : x + y + z "
   ]
  },
  {
   "cell_type": "code",
   "execution_count": 52,
   "metadata": {
    "colab": {
     "base_uri": "https://localhost:8080/",
     "height": 34
    },
    "colab_type": "code",
    "executionInfo": {
     "elapsed": 341,
     "status": "ok",
     "timestamp": 1599887401228,
     "user": {
      "displayName": "Stemplicity",
      "photoUrl": "https://lh3.googleusercontent.com/a-/AOh14Gj2vCFt-bD5mPBhUWX0QA6xiBgoXQXtwUm2jgjaCg=s64",
      "userId": "10668071569687886186"
     },
     "user_tz": 240
    },
    "id": "8PfLE79Lvuvg",
    "outputId": "cac9930a-da19-480a-edc1-95969d6967a2"
   },
   "outputs": [
    {
     "data": {
      "text/plain": [
       "6"
      ]
     },
     "execution_count": 52,
     "metadata": {},
     "output_type": "execute_result"
    }
   ],
   "source": [
    "result(1, 2, 3)"
   ]
  },
  {
   "cell_type": "markdown",
   "metadata": {
    "colab_type": "text",
    "id": "KTRBKK97fQGG"
   },
   "source": [
    "**MINI CHALLENGE #3:**\n",
    "- **Repeat mini challenge #2 (Write a code that takes in two inputs from the user and calculates the total) using lambda expressions instead**"
   ]
  },
  {
   "cell_type": "code",
   "execution_count": 57,
   "metadata": {
    "colab": {},
    "colab_type": "code",
    "id": "jz5bvTOmuHhG"
   },
   "outputs": [
    {
     "name": "stdout",
     "output_type": "stream",
     "text": [
      "Enter the number of shares: 5\n",
      "Enter the price per share: 3300\n"
     ]
    },
    {
     "data": {
      "text/plain": [
       "16500"
      ]
     },
     "execution_count": 57,
     "metadata": {},
     "output_type": "execute_result"
    }
   ],
   "source": [
    "# answer\n",
    "total_amount = lambda num_share, price: num_share * price\n",
    "\n",
    "num_share = int(input(\"Enter the number of shares: \"))\n",
    "price = int(input(\"Enter the price per share: \"))\n",
    "\n",
    "total_amount(num_share, price)"
   ]
  },
  {
   "cell_type": "markdown",
   "metadata": {
    "colab_type": "text",
    "id": "S8pekOcjKF6H"
   },
   "source": [
    "# 4. MAP \n",
    "- map 함수는 함수와 리스트를 취한다. \n",
    "- map 함수는 리스트 전체에 대한 연산을 수행하며, 그 결과값으로 새로운 리스트를 반환한다\n",
    "    - 일반 함수와 적용시 -> list(map(함수명, 인자))\n",
    "    - 람다 함수 적용시 -> list(map(lambda x : 적용할 기능, 적용할 변수))"
   ]
  },
  {
   "cell_type": "code",
   "execution_count": 58,
   "metadata": {
    "colab": {},
    "colab_type": "code",
    "id": "-zx6IFX7KdKi"
   },
   "outputs": [],
   "source": [
    "# The map() function takes in a function and a list.\n",
    "# map() performs an operation on the entire list and return the results in a new list.\n",
    "# Define two lists a and b\n",
    "a = [1, 4, 5, 6, 9]\n",
    "b = [1, 7, 9, 12, 7]"
   ]
  },
  {
   "cell_type": "code",
   "execution_count": 59,
   "metadata": {
    "colab": {},
    "colab_type": "code",
    "id": "l4AEJ33iih46"
   },
   "outputs": [],
   "source": [
    "# Let's define a function that adds two elements together\n",
    "def sumation(a, b):\n",
    "    return a + b"
   ]
  },
  {
   "cell_type": "code",
   "execution_count": 61,
   "metadata": {
    "colab": {
     "base_uri": "https://localhost:8080/",
     "height": 34
    },
    "colab_type": "code",
    "executionInfo": {
     "elapsed": 358,
     "status": "ok",
     "timestamp": 1599887702348,
     "user": {
      "displayName": "Stemplicity",
      "photoUrl": "https://lh3.googleusercontent.com/a-/AOh14Gj2vCFt-bD5mPBhUWX0QA6xiBgoXQXtwUm2jgjaCg=s64",
      "userId": "10668071569687886186"
     },
     "user_tz": 240
    },
    "id": "8ZEm6BjIKdQ7",
    "outputId": "549c4453-dcf3-4b0b-f613-1f7f68b3312e"
   },
   "outputs": [
    {
     "data": {
      "text/plain": [
       "[2, 11, 14, 18, 16]"
      ]
     },
     "execution_count": 61,
     "metadata": {},
     "output_type": "execute_result"
    }
   ],
   "source": [
    "# You can now use map() to apply a function to the entire list and generate a new list\n",
    "c = list(map(sumation, a, b))\n",
    "c"
   ]
  },
  {
   "cell_type": "code",
   "execution_count": 63,
   "metadata": {
    "colab": {
     "base_uri": "https://localhost:8080/",
     "height": 34
    },
    "colab_type": "code",
    "executionInfo": {
     "elapsed": 350,
     "status": "ok",
     "timestamp": 1599887721101,
     "user": {
      "displayName": "Stemplicity",
      "photoUrl": "https://lh3.googleusercontent.com/a-/AOh14Gj2vCFt-bD5mPBhUWX0QA6xiBgoXQXtwUm2jgjaCg=s64",
      "userId": "10668071569687886186"
     },
     "user_tz": 240
    },
    "id": "pc6LxQQFKdM2",
    "outputId": "f7671fed-9c66-463e-e91b-37812967deee"
   },
   "outputs": [
    {
     "data": {
      "text/plain": [
       "[1, 4, 9, 16]"
      ]
     },
     "execution_count": 63,
     "metadata": {},
     "output_type": "execute_result"
    }
   ],
   "source": [
    "# map could be used with Lambda as follows\n",
    "# lambda function is an anonymous function that take any number of arguments and can only have one expression\n",
    "input_list = [1, 2, 3, 4]\n",
    "\n",
    "out_list = list(map(lambda x : x ** 2, input_list))\n",
    "out_list"
   ]
  },
  {
   "cell_type": "markdown",
   "metadata": {
    "colab_type": "text",
    "id": "Dj4Wcbr1gLo8"
   },
   "source": [
    "**MINI CHALLENGE #4:**\n",
    "- **Write a function that takes an argument and return its cubic value**\n",
    "- **Define a list of integers ranging from -10 to 10** \n",
    "- **Apply the function to the entire list and generate a new output list** \n"
   ]
  },
  {
   "cell_type": "code",
   "execution_count": 69,
   "metadata": {},
   "outputs": [
    {
     "data": {
      "text/plain": [
       "[-1000,\n",
       " -729,\n",
       " -512,\n",
       " -343,\n",
       " -216,\n",
       " -125,\n",
       " -64,\n",
       " -27,\n",
       " -8,\n",
       " -1,\n",
       " 0,\n",
       " 1,\n",
       " 8,\n",
       " 27,\n",
       " 64,\n",
       " 125,\n",
       " 216,\n",
       " 343,\n",
       " 512,\n",
       " 729,\n",
       " 1000]"
      ]
     },
     "execution_count": 69,
     "metadata": {},
     "output_type": "execute_result"
    }
   ],
   "source": [
    "# answer - function\n",
    "x = list(range(-10, 11))\n",
    "\n",
    "def cubic(x):\n",
    "    return x ** 3\n",
    "\n",
    "out_list = list(map(cubic, x))\n",
    "out_list"
   ]
  },
  {
   "cell_type": "code",
   "execution_count": 67,
   "metadata": {
    "colab": {},
    "colab_type": "code",
    "id": "pqXiuFVxvU18"
   },
   "outputs": [
    {
     "data": {
      "text/plain": [
       "[-1000,\n",
       " -729,\n",
       " -512,\n",
       " -343,\n",
       " -216,\n",
       " -125,\n",
       " -64,\n",
       " -27,\n",
       " -8,\n",
       " -1,\n",
       " 0,\n",
       " 1,\n",
       " 8,\n",
       " 27,\n",
       " 64,\n",
       " 125,\n",
       " 216,\n",
       " 343,\n",
       " 512,\n",
       " 729,\n",
       " 1000]"
      ]
     },
     "execution_count": 67,
     "metadata": {},
     "output_type": "execute_result"
    }
   ],
   "source": [
    "# answer - lambda\n",
    "integer_list = list(range(-10, 11))\n",
    "\n",
    "out_list = list(map(lambda x : x ** 3, integer_list))\n",
    "out_list"
   ]
  },
  {
   "cell_type": "code",
   "execution_count": 70,
   "metadata": {},
   "outputs": [
    {
     "data": {
      "text/plain": [
       "[-1000,\n",
       " -729,\n",
       " -512,\n",
       " -343,\n",
       " -216,\n",
       " -125,\n",
       " -64,\n",
       " -27,\n",
       " -8,\n",
       " -1,\n",
       " 0,\n",
       " 1,\n",
       " 8,\n",
       " 27,\n",
       " 64,\n",
       " 125,\n",
       " 216,\n",
       " 343,\n",
       " 512,\n",
       " 729,\n",
       " 1000]"
      ]
     },
     "execution_count": 70,
     "metadata": {},
     "output_type": "execute_result"
    }
   ],
   "source": [
    "# answer - otherway\n",
    "def cubic(x):\n",
    "    return x * x * x\n",
    "\n",
    "numbers = list(range(-10, 11))\n",
    "\n",
    "out_list = list(map(lambda x: cubic(x), numbers))\n",
    "out_list"
   ]
  },
  {
   "cell_type": "markdown",
   "metadata": {
    "colab_type": "text",
    "id": "BtAxpyeGKGA1"
   },
   "source": [
    "# 5. FILTER\n"
   ]
  },
  {
   "cell_type": "code",
   "execution_count": 71,
   "metadata": {
    "colab": {},
    "colab_type": "code",
    "id": "D5LVa00JKdz0"
   },
   "outputs": [
    {
     "data": {
      "text/plain": [
       "[105, 5055, 40, 356, 923, 1443, 222, 62]"
      ]
     },
     "execution_count": 71,
     "metadata": {},
     "output_type": "execute_result"
    }
   ],
   "source": [
    "# filter is used to create a list of elements for which a function returns \"True\".\n",
    "price = [105, 5055, 40, 356, 923, 1443, 222, 62]\n",
    "price"
   ]
  },
  {
   "cell_type": "code",
   "execution_count": 74,
   "metadata": {
    "colab": {
     "base_uri": "https://localhost:8080/",
     "height": 34
    },
    "colab_type": "code",
    "executionInfo": {
     "elapsed": 341,
     "status": "ok",
     "timestamp": 1599887745750,
     "user": {
      "displayName": "Stemplicity",
      "photoUrl": "https://lh3.googleusercontent.com/a-/AOh14Gj2vCFt-bD5mPBhUWX0QA6xiBgoXQXtwUm2jgjaCg=s64",
      "userId": "10668071569687886186"
     },
     "user_tz": 240
    },
    "id": "cgQq4hlcKd4A",
    "outputId": "68d27bcc-8186-4a4f-f9ba-d57be288a321"
   },
   "outputs": [
    {
     "data": {
      "text/plain": [
       "[40, 356, 222, 62]"
      ]
     },
     "execution_count": 74,
     "metadata": {},
     "output_type": "execute_result"
    }
   ],
   "source": [
    "# return only even numbers\n",
    "out = list(filter(lambda x : (x % 2 == 0), price))\n",
    "out"
   ]
  },
  {
   "cell_type": "code",
   "execution_count": 75,
   "metadata": {},
   "outputs": [
    {
     "data": {
      "text/plain": [
       "[105, 5055, 923, 1443]"
      ]
     },
     "execution_count": 75,
     "metadata": {},
     "output_type": "execute_result"
    }
   ],
   "source": [
    "# return only odd numbers\n",
    "out = list(filter(lambda x : (x % 2 == 1), price))\n",
    "out"
   ]
  },
  {
   "cell_type": "code",
   "execution_count": 77,
   "metadata": {
    "colab": {
     "base_uri": "https://localhost:8080/",
     "height": 34
    },
    "colab_type": "code",
    "executionInfo": {
     "elapsed": 352,
     "status": "ok",
     "timestamp": 1599887760244,
     "user": {
      "displayName": "Stemplicity",
      "photoUrl": "https://lh3.googleusercontent.com/a-/AOh14Gj2vCFt-bD5mPBhUWX0QA6xiBgoXQXtwUm2jgjaCg=s64",
      "userId": "10668071569687886186"
     },
     "user_tz": 240
    },
    "id": "shory4UpKd2Y",
    "outputId": "77128edb-d69b-4d77-97fb-84b7ae7aba5e"
   },
   "outputs": [
    {
     "data": {
      "text/plain": [
       "[105, 5055, 356, 923, 1443, 222]"
      ]
     },
     "execution_count": 77,
     "metadata": {},
     "output_type": "execute_result"
    }
   ],
   "source": [
    "# Return prices that are greater than or equal 100\n",
    "out = list(filter(lambda x : (100 <= x), price))\n",
    "out"
   ]
  },
  {
   "cell_type": "code",
   "execution_count": 78,
   "metadata": {
    "colab": {
     "base_uri": "https://localhost:8080/",
     "height": 34
    },
    "colab_type": "code",
    "executionInfo": {
     "elapsed": 350,
     "status": "ok",
     "timestamp": 1599887761446,
     "user": {
      "displayName": "Stemplicity",
      "photoUrl": "https://lh3.googleusercontent.com/a-/AOh14Gj2vCFt-bD5mPBhUWX0QA6xiBgoXQXtwUm2jgjaCg=s64",
      "userId": "10668071569687886186"
     },
     "user_tz": 240
    },
    "id": "uQi17-h_hlSf",
    "outputId": "bd9d3d68-9ea5-4f8c-e26d-73879350f90a"
   },
   "outputs": [
    {
     "data": {
      "text/plain": [
       "[222]"
      ]
     },
     "execution_count": 78,
     "metadata": {},
     "output_type": "execute_result"
    }
   ],
   "source": [
    "# Return age between 200 and 250\n",
    "out = list(filter(lambda x : (200 <= x and x <= 250), price))\n",
    "out"
   ]
  },
  {
   "cell_type": "markdown",
   "metadata": {
    "colab_type": "text",
    "id": "JZIiCmyvh7EW"
   },
   "source": [
    "**MINI CHALLENGE #5:**\n",
    "- **Write a code from the user that takes in a range (upper and lower bounds) and returns a list of positive and even numbers only** \n"
   ]
  },
  {
   "cell_type": "code",
   "execution_count": 79,
   "metadata": {
    "colab": {},
    "colab_type": "code",
    "id": "4JDq7Y04ve0S"
   },
   "outputs": [
    {
     "data": {
      "text/plain": [
       "[40, 600, 3000]"
      ]
     },
     "execution_count": 79,
     "metadata": {},
     "output_type": "execute_result"
    }
   ],
   "source": [
    "# answer - solution 1\n",
    "price_list = [-20, -10, -100, 40, 600, 3000]\n",
    "\n",
    "out_list = list(filter(lambda x : x >= 0 and (x % 2 == 0), price_list))\n",
    "out_list"
   ]
  },
  {
   "cell_type": "code",
   "execution_count": 80,
   "metadata": {},
   "outputs": [
    {
     "name": "stdout",
     "output_type": "stream",
     "text": [
      "Enter a nuber (lower bound) *must be negative*: -20\n",
      "Enter a nuber (upper bound): 30\n"
     ]
    },
    {
     "data": {
      "text/plain": [
       "[2, 4, 6, 8, 10, 12, 14, 16, 18, 20, 22, 24, 26, 28]"
      ]
     },
     "execution_count": 80,
     "metadata": {},
     "output_type": "execute_result"
    }
   ],
   "source": [
    "# answer - solution 2\n",
    "min_number = int(input(\"Enter a nuber (lower bound) *must be negative*: \"))\n",
    "max_number = int(input(\"Enter a nuber (upper bound): \"))\n",
    "\n",
    "numbers = range(min_number, max_number)\n",
    "\n",
    "even_greather_than_zero = list(filter(lambda x : (x > 0 and x % 2 == 0), numbers))\n",
    "even_greather_than_zero"
   ]
  }
 ],
 "metadata": {
  "colab": {
   "collapsed_sections": [],
   "name": "5. Python 101 - Functions - Skeleton.ipynb",
   "provenance": []
  },
  "kernelspec": {
   "display_name": "Python 3 (ipykernel)",
   "language": "python",
   "name": "python3"
  },
  "language_info": {
   "codemirror_mode": {
    "name": "ipython",
    "version": 3
   },
   "file_extension": ".py",
   "mimetype": "text/x-python",
   "name": "python",
   "nbconvert_exporter": "python",
   "pygments_lexer": "ipython3",
   "version": "3.8.12"
  }
 },
 "nbformat": 4,
 "nbformat_minor": 1
}
